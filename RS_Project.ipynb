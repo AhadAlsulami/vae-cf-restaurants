{
  "cells": [
    {
      "cell_type": "markdown",
      "metadata": {
        "id": "W7NjsrrsZ0EN"
      },
      "source": [
        "#Variational Autoencoders for Collaborative Filtering in Restaurant Recommendation Systems\n",
        "Recommender System Course Project - Section A2 - Students:\n",
        "* Ahad Alsulami | 2008263\n",
        "* Shatha Alotaibi | 2006590\n",
        "* Reema Albishri | 2007876"
      ]
    },
    {
      "cell_type": "markdown",
      "metadata": {
        "id": "seJCIdm9pqPz"
      },
      "source": [
        "## Import Libraries"
      ]
    },
    {
      "cell_type": "code",
      "execution_count": 4,
      "metadata": {
        "colab": {
          "base_uri": "https://localhost:8080/"
        },
        "id": "rqi6Rml_al8m",
        "outputId": "f053f52e-fe13-4ea2-c19e-e9f50b12463c"
      },
      "outputs": [
        {
          "output_type": "stream",
          "name": "stdout",
          "text": [
            "Requirement already satisfied: bottleneck in /usr/local/lib/python3.10/dist-packages (1.3.7)\n",
            "Requirement already satisfied: numpy in /usr/local/lib/python3.10/dist-packages (from bottleneck) (1.23.5)\n"
          ]
        }
      ],
      "source": [
        "!pip install bottleneck"
      ]
    },
    {
      "cell_type": "code",
      "execution_count": 5,
      "metadata": {
        "id": "gLkNosJeZD7O"
      },
      "outputs": [],
      "source": [
        "# import libraries\n",
        "import pandas as pd\n",
        "import numpy as np\n",
        "import os\n",
        "import sys\n",
        "import tensorflow.compat.v1 as tf\n",
        "from scipy import sparse\n",
        "import shutil\n",
        "from tqdm import tqdm\n",
        "import matplotlib.pyplot as plt\n",
        "%matplotlib inline\n",
        "import seaborn as sn\n",
        "sn.set()\n",
        "import bottleneck as bn\n",
        "tf.disable_v2_behavior()"
      ]
    },
    {
      "cell_type": "markdown",
      "metadata": {
        "id": "YZmzGa3tai9F"
      },
      "source": [
        "## Data Preprocessing"
      ]
    },
    {
      "cell_type": "markdown",
      "metadata": {
        "id": "e3MqLAO0hrV0"
      },
      "source": [
        "In this part, we will read the restaurants reviews dataset and preprocess by implementing:\n",
        "- Handle missings values\n",
        "- Convert to numeric\n",
        "- Create IDs for users and items\n"
      ]
    },
    {
      "cell_type": "code",
      "execution_count": 6,
      "metadata": {
        "id": "cfqr3Y5Uag2J"
      },
      "outputs": [],
      "source": [
        "# read data\n",
        "reviews_data = pd.read_csv('/content/Restaurant reviews.csv')"
      ]
    },
    {
      "cell_type": "code",
      "execution_count": 7,
      "metadata": {
        "colab": {
          "base_uri": "https://localhost:8080/",
          "height": 206
        },
        "id": "6NKMk6E0b1-m",
        "outputId": "bc5be0cc-ff16-43f7-c730-a201efc9f570"
      },
      "outputs": [
        {
          "output_type": "execute_result",
          "data": {
            "text/plain": [
              "        Restaurant              Reviewer  \\\n",
              "0  Beyond Flavours     Rusha Chakraborty   \n",
              "1  Beyond Flavours  Anusha Tirumalaneedi   \n",
              "2  Beyond Flavours       Ashok Shekhawat   \n",
              "3  Beyond Flavours        Swapnil Sarkar   \n",
              "4  Beyond Flavours                Dileep   \n",
              "\n",
              "                                              Review Rating  \\\n",
              "0  The ambience was good, food was quite good . h...      5   \n",
              "1  Ambience is too good for a pleasant evening. S...      5   \n",
              "2  A must try.. great food great ambience. Thnx f...      5   \n",
              "3  Soumen das and Arun was a great guy. Only beca...      5   \n",
              "4  Food is good.we ordered Kodi drumsticks and ba...      5   \n",
              "\n",
              "                  Metadata             Time  Pictures  \n",
              "0   1 Review , 2 Followers  5/25/2019 15:54         0  \n",
              "1  3 Reviews , 2 Followers  5/25/2019 14:20         0  \n",
              "2  2 Reviews , 3 Followers  5/24/2019 22:54         0  \n",
              "3    1 Review , 1 Follower  5/24/2019 22:11         0  \n",
              "4  3 Reviews , 2 Followers  5/24/2019 21:37         0  "
            ],
            "text/html": [
              "\n",
              "  <div id=\"df-e6a52526-9ede-44ca-bf46-6f9058bd4a56\" class=\"colab-df-container\">\n",
              "    <div>\n",
              "<style scoped>\n",
              "    .dataframe tbody tr th:only-of-type {\n",
              "        vertical-align: middle;\n",
              "    }\n",
              "\n",
              "    .dataframe tbody tr th {\n",
              "        vertical-align: top;\n",
              "    }\n",
              "\n",
              "    .dataframe thead th {\n",
              "        text-align: right;\n",
              "    }\n",
              "</style>\n",
              "<table border=\"1\" class=\"dataframe\">\n",
              "  <thead>\n",
              "    <tr style=\"text-align: right;\">\n",
              "      <th></th>\n",
              "      <th>Restaurant</th>\n",
              "      <th>Reviewer</th>\n",
              "      <th>Review</th>\n",
              "      <th>Rating</th>\n",
              "      <th>Metadata</th>\n",
              "      <th>Time</th>\n",
              "      <th>Pictures</th>\n",
              "    </tr>\n",
              "  </thead>\n",
              "  <tbody>\n",
              "    <tr>\n",
              "      <th>0</th>\n",
              "      <td>Beyond Flavours</td>\n",
              "      <td>Rusha Chakraborty</td>\n",
              "      <td>The ambience was good, food was quite good . h...</td>\n",
              "      <td>5</td>\n",
              "      <td>1 Review , 2 Followers</td>\n",
              "      <td>5/25/2019 15:54</td>\n",
              "      <td>0</td>\n",
              "    </tr>\n",
              "    <tr>\n",
              "      <th>1</th>\n",
              "      <td>Beyond Flavours</td>\n",
              "      <td>Anusha Tirumalaneedi</td>\n",
              "      <td>Ambience is too good for a pleasant evening. S...</td>\n",
              "      <td>5</td>\n",
              "      <td>3 Reviews , 2 Followers</td>\n",
              "      <td>5/25/2019 14:20</td>\n",
              "      <td>0</td>\n",
              "    </tr>\n",
              "    <tr>\n",
              "      <th>2</th>\n",
              "      <td>Beyond Flavours</td>\n",
              "      <td>Ashok Shekhawat</td>\n",
              "      <td>A must try.. great food great ambience. Thnx f...</td>\n",
              "      <td>5</td>\n",
              "      <td>2 Reviews , 3 Followers</td>\n",
              "      <td>5/24/2019 22:54</td>\n",
              "      <td>0</td>\n",
              "    </tr>\n",
              "    <tr>\n",
              "      <th>3</th>\n",
              "      <td>Beyond Flavours</td>\n",
              "      <td>Swapnil Sarkar</td>\n",
              "      <td>Soumen das and Arun was a great guy. Only beca...</td>\n",
              "      <td>5</td>\n",
              "      <td>1 Review , 1 Follower</td>\n",
              "      <td>5/24/2019 22:11</td>\n",
              "      <td>0</td>\n",
              "    </tr>\n",
              "    <tr>\n",
              "      <th>4</th>\n",
              "      <td>Beyond Flavours</td>\n",
              "      <td>Dileep</td>\n",
              "      <td>Food is good.we ordered Kodi drumsticks and ba...</td>\n",
              "      <td>5</td>\n",
              "      <td>3 Reviews , 2 Followers</td>\n",
              "      <td>5/24/2019 21:37</td>\n",
              "      <td>0</td>\n",
              "    </tr>\n",
              "  </tbody>\n",
              "</table>\n",
              "</div>\n",
              "    <div class=\"colab-df-buttons\">\n",
              "\n",
              "  <div class=\"colab-df-container\">\n",
              "    <button class=\"colab-df-convert\" onclick=\"convertToInteractive('df-e6a52526-9ede-44ca-bf46-6f9058bd4a56')\"\n",
              "            title=\"Convert this dataframe to an interactive table.\"\n",
              "            style=\"display:none;\">\n",
              "\n",
              "  <svg xmlns=\"http://www.w3.org/2000/svg\" height=\"24px\" viewBox=\"0 -960 960 960\">\n",
              "    <path d=\"M120-120v-720h720v720H120Zm60-500h600v-160H180v160Zm220 220h160v-160H400v160Zm0 220h160v-160H400v160ZM180-400h160v-160H180v160Zm440 0h160v-160H620v160ZM180-180h160v-160H180v160Zm440 0h160v-160H620v160Z\"/>\n",
              "  </svg>\n",
              "    </button>\n",
              "\n",
              "  <style>\n",
              "    .colab-df-container {\n",
              "      display:flex;\n",
              "      gap: 12px;\n",
              "    }\n",
              "\n",
              "    .colab-df-convert {\n",
              "      background-color: #E8F0FE;\n",
              "      border: none;\n",
              "      border-radius: 50%;\n",
              "      cursor: pointer;\n",
              "      display: none;\n",
              "      fill: #1967D2;\n",
              "      height: 32px;\n",
              "      padding: 0 0 0 0;\n",
              "      width: 32px;\n",
              "    }\n",
              "\n",
              "    .colab-df-convert:hover {\n",
              "      background-color: #E2EBFA;\n",
              "      box-shadow: 0px 1px 2px rgba(60, 64, 67, 0.3), 0px 1px 3px 1px rgba(60, 64, 67, 0.15);\n",
              "      fill: #174EA6;\n",
              "    }\n",
              "\n",
              "    .colab-df-buttons div {\n",
              "      margin-bottom: 4px;\n",
              "    }\n",
              "\n",
              "    [theme=dark] .colab-df-convert {\n",
              "      background-color: #3B4455;\n",
              "      fill: #D2E3FC;\n",
              "    }\n",
              "\n",
              "    [theme=dark] .colab-df-convert:hover {\n",
              "      background-color: #434B5C;\n",
              "      box-shadow: 0px 1px 3px 1px rgba(0, 0, 0, 0.15);\n",
              "      filter: drop-shadow(0px 1px 2px rgba(0, 0, 0, 0.3));\n",
              "      fill: #FFFFFF;\n",
              "    }\n",
              "  </style>\n",
              "\n",
              "    <script>\n",
              "      const buttonEl =\n",
              "        document.querySelector('#df-e6a52526-9ede-44ca-bf46-6f9058bd4a56 button.colab-df-convert');\n",
              "      buttonEl.style.display =\n",
              "        google.colab.kernel.accessAllowed ? 'block' : 'none';\n",
              "\n",
              "      async function convertToInteractive(key) {\n",
              "        const element = document.querySelector('#df-e6a52526-9ede-44ca-bf46-6f9058bd4a56');\n",
              "        const dataTable =\n",
              "          await google.colab.kernel.invokeFunction('convertToInteractive',\n",
              "                                                    [key], {});\n",
              "        if (!dataTable) return;\n",
              "\n",
              "        const docLinkHtml = 'Like what you see? Visit the ' +\n",
              "          '<a target=\"_blank\" href=https://colab.research.google.com/notebooks/data_table.ipynb>data table notebook</a>'\n",
              "          + ' to learn more about interactive tables.';\n",
              "        element.innerHTML = '';\n",
              "        dataTable['output_type'] = 'display_data';\n",
              "        await google.colab.output.renderOutput(dataTable, element);\n",
              "        const docLink = document.createElement('div');\n",
              "        docLink.innerHTML = docLinkHtml;\n",
              "        element.appendChild(docLink);\n",
              "      }\n",
              "    </script>\n",
              "  </div>\n",
              "\n",
              "\n",
              "<div id=\"df-465e1dea-457b-407d-ab80-5ccc8c9c93e0\">\n",
              "  <button class=\"colab-df-quickchart\" onclick=\"quickchart('df-465e1dea-457b-407d-ab80-5ccc8c9c93e0')\"\n",
              "            title=\"Suggest charts\"\n",
              "            style=\"display:none;\">\n",
              "\n",
              "<svg xmlns=\"http://www.w3.org/2000/svg\" height=\"24px\"viewBox=\"0 0 24 24\"\n",
              "     width=\"24px\">\n",
              "    <g>\n",
              "        <path d=\"M19 3H5c-1.1 0-2 .9-2 2v14c0 1.1.9 2 2 2h14c1.1 0 2-.9 2-2V5c0-1.1-.9-2-2-2zM9 17H7v-7h2v7zm4 0h-2V7h2v10zm4 0h-2v-4h2v4z\"/>\n",
              "    </g>\n",
              "</svg>\n",
              "  </button>\n",
              "\n",
              "<style>\n",
              "  .colab-df-quickchart {\n",
              "      --bg-color: #E8F0FE;\n",
              "      --fill-color: #1967D2;\n",
              "      --hover-bg-color: #E2EBFA;\n",
              "      --hover-fill-color: #174EA6;\n",
              "      --disabled-fill-color: #AAA;\n",
              "      --disabled-bg-color: #DDD;\n",
              "  }\n",
              "\n",
              "  [theme=dark] .colab-df-quickchart {\n",
              "      --bg-color: #3B4455;\n",
              "      --fill-color: #D2E3FC;\n",
              "      --hover-bg-color: #434B5C;\n",
              "      --hover-fill-color: #FFFFFF;\n",
              "      --disabled-bg-color: #3B4455;\n",
              "      --disabled-fill-color: #666;\n",
              "  }\n",
              "\n",
              "  .colab-df-quickchart {\n",
              "    background-color: var(--bg-color);\n",
              "    border: none;\n",
              "    border-radius: 50%;\n",
              "    cursor: pointer;\n",
              "    display: none;\n",
              "    fill: var(--fill-color);\n",
              "    height: 32px;\n",
              "    padding: 0;\n",
              "    width: 32px;\n",
              "  }\n",
              "\n",
              "  .colab-df-quickchart:hover {\n",
              "    background-color: var(--hover-bg-color);\n",
              "    box-shadow: 0 1px 2px rgba(60, 64, 67, 0.3), 0 1px 3px 1px rgba(60, 64, 67, 0.15);\n",
              "    fill: var(--button-hover-fill-color);\n",
              "  }\n",
              "\n",
              "  .colab-df-quickchart-complete:disabled,\n",
              "  .colab-df-quickchart-complete:disabled:hover {\n",
              "    background-color: var(--disabled-bg-color);\n",
              "    fill: var(--disabled-fill-color);\n",
              "    box-shadow: none;\n",
              "  }\n",
              "\n",
              "  .colab-df-spinner {\n",
              "    border: 2px solid var(--fill-color);\n",
              "    border-color: transparent;\n",
              "    border-bottom-color: var(--fill-color);\n",
              "    animation:\n",
              "      spin 1s steps(1) infinite;\n",
              "  }\n",
              "\n",
              "  @keyframes spin {\n",
              "    0% {\n",
              "      border-color: transparent;\n",
              "      border-bottom-color: var(--fill-color);\n",
              "      border-left-color: var(--fill-color);\n",
              "    }\n",
              "    20% {\n",
              "      border-color: transparent;\n",
              "      border-left-color: var(--fill-color);\n",
              "      border-top-color: var(--fill-color);\n",
              "    }\n",
              "    30% {\n",
              "      border-color: transparent;\n",
              "      border-left-color: var(--fill-color);\n",
              "      border-top-color: var(--fill-color);\n",
              "      border-right-color: var(--fill-color);\n",
              "    }\n",
              "    40% {\n",
              "      border-color: transparent;\n",
              "      border-right-color: var(--fill-color);\n",
              "      border-top-color: var(--fill-color);\n",
              "    }\n",
              "    60% {\n",
              "      border-color: transparent;\n",
              "      border-right-color: var(--fill-color);\n",
              "    }\n",
              "    80% {\n",
              "      border-color: transparent;\n",
              "      border-right-color: var(--fill-color);\n",
              "      border-bottom-color: var(--fill-color);\n",
              "    }\n",
              "    90% {\n",
              "      border-color: transparent;\n",
              "      border-bottom-color: var(--fill-color);\n",
              "    }\n",
              "  }\n",
              "</style>\n",
              "\n",
              "  <script>\n",
              "    async function quickchart(key) {\n",
              "      const quickchartButtonEl =\n",
              "        document.querySelector('#' + key + ' button');\n",
              "      quickchartButtonEl.disabled = true;  // To prevent multiple clicks.\n",
              "      quickchartButtonEl.classList.add('colab-df-spinner');\n",
              "      try {\n",
              "        const charts = await google.colab.kernel.invokeFunction(\n",
              "            'suggestCharts', [key], {});\n",
              "      } catch (error) {\n",
              "        console.error('Error during call to suggestCharts:', error);\n",
              "      }\n",
              "      quickchartButtonEl.classList.remove('colab-df-spinner');\n",
              "      quickchartButtonEl.classList.add('colab-df-quickchart-complete');\n",
              "    }\n",
              "    (() => {\n",
              "      let quickchartButtonEl =\n",
              "        document.querySelector('#df-465e1dea-457b-407d-ab80-5ccc8c9c93e0 button');\n",
              "      quickchartButtonEl.style.display =\n",
              "        google.colab.kernel.accessAllowed ? 'block' : 'none';\n",
              "    })();\n",
              "  </script>\n",
              "</div>\n",
              "    </div>\n",
              "  </div>\n"
            ]
          },
          "metadata": {},
          "execution_count": 7
        }
      ],
      "source": [
        "# print data\n",
        "reviews_data.head()"
      ]
    },
    {
      "cell_type": "markdown",
      "metadata": {
        "id": "lynj1CToidjc"
      },
      "source": [
        "#### Dataset preprocess:"
      ]
    },
    {
      "cell_type": "code",
      "execution_count": 8,
      "metadata": {
        "id": "6Q5u1rm_clBI"
      },
      "outputs": [],
      "source": [
        "# function to check missing values\n",
        "'''\n",
        "This function has been taken from RS Lab 8 to check if we have any missing\n",
        "values in our dataset. It will help us handling them if there was any.\n",
        "'''\n",
        "def missing_zero_values_table(df):\n",
        "        zero_val = (df == 0.00).astype(int).sum(axis=0)\n",
        "        mis_val = df.isnull().sum()\n",
        "        mis_val_percent = 100 * df.isnull().sum() / len(df)\n",
        "        mz_table = pd.concat([zero_val, mis_val, mis_val_percent], axis=1)\n",
        "        mz_table = mz_table.rename(\n",
        "        columns = {0 : 'Zero Values', 1 : 'Missing Values', 2 : '% of Total Values'})\n",
        "        mz_table['Total Zero Missing Values'] = mz_table['Zero Values'] + mz_table['Missing Values']\n",
        "        mz_table['% Total Zero Missing Values'] = 100 * mz_table['Total Zero Missing Values'] / len(df)\n",
        "        mz_table['Data Type'] = df.dtypes\n",
        "        mz_table = mz_table[\n",
        "            mz_table.iloc[:,1] != 0].sort_values(\n",
        "        '% of Total Values', ascending=False).round(1)\n",
        "        print (\"Your selected dataframe has \" + str(df.shape[1]) + \" columns and \" + str(df.shape[0]) + \" Rows.\\n\"\n",
        "            \"There are \" + str(mz_table.shape[0]) +\n",
        "              \" columns that have missing values.\")\n",
        "         #mz_table.to_excel('D:/sampledata/missing_and_zero_values.xlsx', freeze_panes=(1,0), index = False)\n",
        "        return mz_table"
      ]
    },
    {
      "cell_type": "code",
      "execution_count": 9,
      "metadata": {
        "colab": {
          "base_uri": "https://localhost:8080/",
          "height": 241
        },
        "id": "byRDSFhycmk9",
        "outputId": "f14ad414-070c-4bbc-95fb-84e0bc9e2a41"
      },
      "outputs": [
        {
          "output_type": "stream",
          "name": "stdout",
          "text": [
            "Your selected dataframe has 7 columns and 10000 Rows.\n",
            "There are 5 columns that have missing values.\n"
          ]
        },
        {
          "output_type": "execute_result",
          "data": {
            "text/plain": [
              "          Zero Values  Missing Values  % of Total Values  \\\n",
              "Review              0              45                0.4   \n",
              "Reviewer            0              38                0.4   \n",
              "Rating              0              38                0.4   \n",
              "Metadata            0              38                0.4   \n",
              "Time                0              38                0.4   \n",
              "\n",
              "          Total Zero Missing Values  % Total Zero Missing Values Data Type  \n",
              "Review                           45                          0.4    object  \n",
              "Reviewer                         38                          0.4    object  \n",
              "Rating                           38                          0.4    object  \n",
              "Metadata                         38                          0.4    object  \n",
              "Time                             38                          0.4    object  "
            ],
            "text/html": [
              "\n",
              "  <div id=\"df-e5b96f7e-88f5-4ca2-9ef8-f0dac0ccdd23\" class=\"colab-df-container\">\n",
              "    <div>\n",
              "<style scoped>\n",
              "    .dataframe tbody tr th:only-of-type {\n",
              "        vertical-align: middle;\n",
              "    }\n",
              "\n",
              "    .dataframe tbody tr th {\n",
              "        vertical-align: top;\n",
              "    }\n",
              "\n",
              "    .dataframe thead th {\n",
              "        text-align: right;\n",
              "    }\n",
              "</style>\n",
              "<table border=\"1\" class=\"dataframe\">\n",
              "  <thead>\n",
              "    <tr style=\"text-align: right;\">\n",
              "      <th></th>\n",
              "      <th>Zero Values</th>\n",
              "      <th>Missing Values</th>\n",
              "      <th>% of Total Values</th>\n",
              "      <th>Total Zero Missing Values</th>\n",
              "      <th>% Total Zero Missing Values</th>\n",
              "      <th>Data Type</th>\n",
              "    </tr>\n",
              "  </thead>\n",
              "  <tbody>\n",
              "    <tr>\n",
              "      <th>Review</th>\n",
              "      <td>0</td>\n",
              "      <td>45</td>\n",
              "      <td>0.4</td>\n",
              "      <td>45</td>\n",
              "      <td>0.4</td>\n",
              "      <td>object</td>\n",
              "    </tr>\n",
              "    <tr>\n",
              "      <th>Reviewer</th>\n",
              "      <td>0</td>\n",
              "      <td>38</td>\n",
              "      <td>0.4</td>\n",
              "      <td>38</td>\n",
              "      <td>0.4</td>\n",
              "      <td>object</td>\n",
              "    </tr>\n",
              "    <tr>\n",
              "      <th>Rating</th>\n",
              "      <td>0</td>\n",
              "      <td>38</td>\n",
              "      <td>0.4</td>\n",
              "      <td>38</td>\n",
              "      <td>0.4</td>\n",
              "      <td>object</td>\n",
              "    </tr>\n",
              "    <tr>\n",
              "      <th>Metadata</th>\n",
              "      <td>0</td>\n",
              "      <td>38</td>\n",
              "      <td>0.4</td>\n",
              "      <td>38</td>\n",
              "      <td>0.4</td>\n",
              "      <td>object</td>\n",
              "    </tr>\n",
              "    <tr>\n",
              "      <th>Time</th>\n",
              "      <td>0</td>\n",
              "      <td>38</td>\n",
              "      <td>0.4</td>\n",
              "      <td>38</td>\n",
              "      <td>0.4</td>\n",
              "      <td>object</td>\n",
              "    </tr>\n",
              "  </tbody>\n",
              "</table>\n",
              "</div>\n",
              "    <div class=\"colab-df-buttons\">\n",
              "\n",
              "  <div class=\"colab-df-container\">\n",
              "    <button class=\"colab-df-convert\" onclick=\"convertToInteractive('df-e5b96f7e-88f5-4ca2-9ef8-f0dac0ccdd23')\"\n",
              "            title=\"Convert this dataframe to an interactive table.\"\n",
              "            style=\"display:none;\">\n",
              "\n",
              "  <svg xmlns=\"http://www.w3.org/2000/svg\" height=\"24px\" viewBox=\"0 -960 960 960\">\n",
              "    <path d=\"M120-120v-720h720v720H120Zm60-500h600v-160H180v160Zm220 220h160v-160H400v160Zm0 220h160v-160H400v160ZM180-400h160v-160H180v160Zm440 0h160v-160H620v160ZM180-180h160v-160H180v160Zm440 0h160v-160H620v160Z\"/>\n",
              "  </svg>\n",
              "    </button>\n",
              "\n",
              "  <style>\n",
              "    .colab-df-container {\n",
              "      display:flex;\n",
              "      gap: 12px;\n",
              "    }\n",
              "\n",
              "    .colab-df-convert {\n",
              "      background-color: #E8F0FE;\n",
              "      border: none;\n",
              "      border-radius: 50%;\n",
              "      cursor: pointer;\n",
              "      display: none;\n",
              "      fill: #1967D2;\n",
              "      height: 32px;\n",
              "      padding: 0 0 0 0;\n",
              "      width: 32px;\n",
              "    }\n",
              "\n",
              "    .colab-df-convert:hover {\n",
              "      background-color: #E2EBFA;\n",
              "      box-shadow: 0px 1px 2px rgba(60, 64, 67, 0.3), 0px 1px 3px 1px rgba(60, 64, 67, 0.15);\n",
              "      fill: #174EA6;\n",
              "    }\n",
              "\n",
              "    .colab-df-buttons div {\n",
              "      margin-bottom: 4px;\n",
              "    }\n",
              "\n",
              "    [theme=dark] .colab-df-convert {\n",
              "      background-color: #3B4455;\n",
              "      fill: #D2E3FC;\n",
              "    }\n",
              "\n",
              "    [theme=dark] .colab-df-convert:hover {\n",
              "      background-color: #434B5C;\n",
              "      box-shadow: 0px 1px 3px 1px rgba(0, 0, 0, 0.15);\n",
              "      filter: drop-shadow(0px 1px 2px rgba(0, 0, 0, 0.3));\n",
              "      fill: #FFFFFF;\n",
              "    }\n",
              "  </style>\n",
              "\n",
              "    <script>\n",
              "      const buttonEl =\n",
              "        document.querySelector('#df-e5b96f7e-88f5-4ca2-9ef8-f0dac0ccdd23 button.colab-df-convert');\n",
              "      buttonEl.style.display =\n",
              "        google.colab.kernel.accessAllowed ? 'block' : 'none';\n",
              "\n",
              "      async function convertToInteractive(key) {\n",
              "        const element = document.querySelector('#df-e5b96f7e-88f5-4ca2-9ef8-f0dac0ccdd23');\n",
              "        const dataTable =\n",
              "          await google.colab.kernel.invokeFunction('convertToInteractive',\n",
              "                                                    [key], {});\n",
              "        if (!dataTable) return;\n",
              "\n",
              "        const docLinkHtml = 'Like what you see? Visit the ' +\n",
              "          '<a target=\"_blank\" href=https://colab.research.google.com/notebooks/data_table.ipynb>data table notebook</a>'\n",
              "          + ' to learn more about interactive tables.';\n",
              "        element.innerHTML = '';\n",
              "        dataTable['output_type'] = 'display_data';\n",
              "        await google.colab.output.renderOutput(dataTable, element);\n",
              "        const docLink = document.createElement('div');\n",
              "        docLink.innerHTML = docLinkHtml;\n",
              "        element.appendChild(docLink);\n",
              "      }\n",
              "    </script>\n",
              "  </div>\n",
              "\n",
              "\n",
              "<div id=\"df-97450397-3490-4b27-96d9-de3119bf5661\">\n",
              "  <button class=\"colab-df-quickchart\" onclick=\"quickchart('df-97450397-3490-4b27-96d9-de3119bf5661')\"\n",
              "            title=\"Suggest charts\"\n",
              "            style=\"display:none;\">\n",
              "\n",
              "<svg xmlns=\"http://www.w3.org/2000/svg\" height=\"24px\"viewBox=\"0 0 24 24\"\n",
              "     width=\"24px\">\n",
              "    <g>\n",
              "        <path d=\"M19 3H5c-1.1 0-2 .9-2 2v14c0 1.1.9 2 2 2h14c1.1 0 2-.9 2-2V5c0-1.1-.9-2-2-2zM9 17H7v-7h2v7zm4 0h-2V7h2v10zm4 0h-2v-4h2v4z\"/>\n",
              "    </g>\n",
              "</svg>\n",
              "  </button>\n",
              "\n",
              "<style>\n",
              "  .colab-df-quickchart {\n",
              "      --bg-color: #E8F0FE;\n",
              "      --fill-color: #1967D2;\n",
              "      --hover-bg-color: #E2EBFA;\n",
              "      --hover-fill-color: #174EA6;\n",
              "      --disabled-fill-color: #AAA;\n",
              "      --disabled-bg-color: #DDD;\n",
              "  }\n",
              "\n",
              "  [theme=dark] .colab-df-quickchart {\n",
              "      --bg-color: #3B4455;\n",
              "      --fill-color: #D2E3FC;\n",
              "      --hover-bg-color: #434B5C;\n",
              "      --hover-fill-color: #FFFFFF;\n",
              "      --disabled-bg-color: #3B4455;\n",
              "      --disabled-fill-color: #666;\n",
              "  }\n",
              "\n",
              "  .colab-df-quickchart {\n",
              "    background-color: var(--bg-color);\n",
              "    border: none;\n",
              "    border-radius: 50%;\n",
              "    cursor: pointer;\n",
              "    display: none;\n",
              "    fill: var(--fill-color);\n",
              "    height: 32px;\n",
              "    padding: 0;\n",
              "    width: 32px;\n",
              "  }\n",
              "\n",
              "  .colab-df-quickchart:hover {\n",
              "    background-color: var(--hover-bg-color);\n",
              "    box-shadow: 0 1px 2px rgba(60, 64, 67, 0.3), 0 1px 3px 1px rgba(60, 64, 67, 0.15);\n",
              "    fill: var(--button-hover-fill-color);\n",
              "  }\n",
              "\n",
              "  .colab-df-quickchart-complete:disabled,\n",
              "  .colab-df-quickchart-complete:disabled:hover {\n",
              "    background-color: var(--disabled-bg-color);\n",
              "    fill: var(--disabled-fill-color);\n",
              "    box-shadow: none;\n",
              "  }\n",
              "\n",
              "  .colab-df-spinner {\n",
              "    border: 2px solid var(--fill-color);\n",
              "    border-color: transparent;\n",
              "    border-bottom-color: var(--fill-color);\n",
              "    animation:\n",
              "      spin 1s steps(1) infinite;\n",
              "  }\n",
              "\n",
              "  @keyframes spin {\n",
              "    0% {\n",
              "      border-color: transparent;\n",
              "      border-bottom-color: var(--fill-color);\n",
              "      border-left-color: var(--fill-color);\n",
              "    }\n",
              "    20% {\n",
              "      border-color: transparent;\n",
              "      border-left-color: var(--fill-color);\n",
              "      border-top-color: var(--fill-color);\n",
              "    }\n",
              "    30% {\n",
              "      border-color: transparent;\n",
              "      border-left-color: var(--fill-color);\n",
              "      border-top-color: var(--fill-color);\n",
              "      border-right-color: var(--fill-color);\n",
              "    }\n",
              "    40% {\n",
              "      border-color: transparent;\n",
              "      border-right-color: var(--fill-color);\n",
              "      border-top-color: var(--fill-color);\n",
              "    }\n",
              "    60% {\n",
              "      border-color: transparent;\n",
              "      border-right-color: var(--fill-color);\n",
              "    }\n",
              "    80% {\n",
              "      border-color: transparent;\n",
              "      border-right-color: var(--fill-color);\n",
              "      border-bottom-color: var(--fill-color);\n",
              "    }\n",
              "    90% {\n",
              "      border-color: transparent;\n",
              "      border-bottom-color: var(--fill-color);\n",
              "    }\n",
              "  }\n",
              "</style>\n",
              "\n",
              "  <script>\n",
              "    async function quickchart(key) {\n",
              "      const quickchartButtonEl =\n",
              "        document.querySelector('#' + key + ' button');\n",
              "      quickchartButtonEl.disabled = true;  // To prevent multiple clicks.\n",
              "      quickchartButtonEl.classList.add('colab-df-spinner');\n",
              "      try {\n",
              "        const charts = await google.colab.kernel.invokeFunction(\n",
              "            'suggestCharts', [key], {});\n",
              "      } catch (error) {\n",
              "        console.error('Error during call to suggestCharts:', error);\n",
              "      }\n",
              "      quickchartButtonEl.classList.remove('colab-df-spinner');\n",
              "      quickchartButtonEl.classList.add('colab-df-quickchart-complete');\n",
              "    }\n",
              "    (() => {\n",
              "      let quickchartButtonEl =\n",
              "        document.querySelector('#df-97450397-3490-4b27-96d9-de3119bf5661 button');\n",
              "      quickchartButtonEl.style.display =\n",
              "        google.colab.kernel.accessAllowed ? 'block' : 'none';\n",
              "    })();\n",
              "  </script>\n",
              "</div>\n",
              "    </div>\n",
              "  </div>\n"
            ]
          },
          "metadata": {},
          "execution_count": 9
        }
      ],
      "source": [
        "# check if there are missing values using the above function\n",
        "missing_zero_values_table(reviews_data)"
      ]
    },
    {
      "cell_type": "code",
      "execution_count": 10,
      "metadata": {
        "colab": {
          "base_uri": "https://localhost:8080/",
          "height": 88
        },
        "id": "92RR1evxd0VV",
        "outputId": "88cca4c8-836c-4764-882b-b21ec61a8000"
      },
      "outputs": [
        {
          "output_type": "stream",
          "name": "stdout",
          "text": [
            "Your selected dataframe has 7 columns and 10000 Rows.\n",
            "There are 0 columns that have missing values.\n"
          ]
        },
        {
          "output_type": "execute_result",
          "data": {
            "text/plain": [
              "Empty DataFrame\n",
              "Columns: [Zero Values, Missing Values, % of Total Values, Total Zero Missing Values, % Total Zero Missing Values, Data Type]\n",
              "Index: []"
            ],
            "text/html": [
              "\n",
              "  <div id=\"df-1cfa6c49-4101-413c-bc0a-af31fe73f877\" class=\"colab-df-container\">\n",
              "    <div>\n",
              "<style scoped>\n",
              "    .dataframe tbody tr th:only-of-type {\n",
              "        vertical-align: middle;\n",
              "    }\n",
              "\n",
              "    .dataframe tbody tr th {\n",
              "        vertical-align: top;\n",
              "    }\n",
              "\n",
              "    .dataframe thead th {\n",
              "        text-align: right;\n",
              "    }\n",
              "</style>\n",
              "<table border=\"1\" class=\"dataframe\">\n",
              "  <thead>\n",
              "    <tr style=\"text-align: right;\">\n",
              "      <th></th>\n",
              "      <th>Zero Values</th>\n",
              "      <th>Missing Values</th>\n",
              "      <th>% of Total Values</th>\n",
              "      <th>Total Zero Missing Values</th>\n",
              "      <th>% Total Zero Missing Values</th>\n",
              "      <th>Data Type</th>\n",
              "    </tr>\n",
              "  </thead>\n",
              "  <tbody>\n",
              "  </tbody>\n",
              "</table>\n",
              "</div>\n",
              "    <div class=\"colab-df-buttons\">\n",
              "\n",
              "  <div class=\"colab-df-container\">\n",
              "    <button class=\"colab-df-convert\" onclick=\"convertToInteractive('df-1cfa6c49-4101-413c-bc0a-af31fe73f877')\"\n",
              "            title=\"Convert this dataframe to an interactive table.\"\n",
              "            style=\"display:none;\">\n",
              "\n",
              "  <svg xmlns=\"http://www.w3.org/2000/svg\" height=\"24px\" viewBox=\"0 -960 960 960\">\n",
              "    <path d=\"M120-120v-720h720v720H120Zm60-500h600v-160H180v160Zm220 220h160v-160H400v160Zm0 220h160v-160H400v160ZM180-400h160v-160H180v160Zm440 0h160v-160H620v160ZM180-180h160v-160H180v160Zm440 0h160v-160H620v160Z\"/>\n",
              "  </svg>\n",
              "    </button>\n",
              "\n",
              "  <style>\n",
              "    .colab-df-container {\n",
              "      display:flex;\n",
              "      gap: 12px;\n",
              "    }\n",
              "\n",
              "    .colab-df-convert {\n",
              "      background-color: #E8F0FE;\n",
              "      border: none;\n",
              "      border-radius: 50%;\n",
              "      cursor: pointer;\n",
              "      display: none;\n",
              "      fill: #1967D2;\n",
              "      height: 32px;\n",
              "      padding: 0 0 0 0;\n",
              "      width: 32px;\n",
              "    }\n",
              "\n",
              "    .colab-df-convert:hover {\n",
              "      background-color: #E2EBFA;\n",
              "      box-shadow: 0px 1px 2px rgba(60, 64, 67, 0.3), 0px 1px 3px 1px rgba(60, 64, 67, 0.15);\n",
              "      fill: #174EA6;\n",
              "    }\n",
              "\n",
              "    .colab-df-buttons div {\n",
              "      margin-bottom: 4px;\n",
              "    }\n",
              "\n",
              "    [theme=dark] .colab-df-convert {\n",
              "      background-color: #3B4455;\n",
              "      fill: #D2E3FC;\n",
              "    }\n",
              "\n",
              "    [theme=dark] .colab-df-convert:hover {\n",
              "      background-color: #434B5C;\n",
              "      box-shadow: 0px 1px 3px 1px rgba(0, 0, 0, 0.15);\n",
              "      filter: drop-shadow(0px 1px 2px rgba(0, 0, 0, 0.3));\n",
              "      fill: #FFFFFF;\n",
              "    }\n",
              "  </style>\n",
              "\n",
              "    <script>\n",
              "      const buttonEl =\n",
              "        document.querySelector('#df-1cfa6c49-4101-413c-bc0a-af31fe73f877 button.colab-df-convert');\n",
              "      buttonEl.style.display =\n",
              "        google.colab.kernel.accessAllowed ? 'block' : 'none';\n",
              "\n",
              "      async function convertToInteractive(key) {\n",
              "        const element = document.querySelector('#df-1cfa6c49-4101-413c-bc0a-af31fe73f877');\n",
              "        const dataTable =\n",
              "          await google.colab.kernel.invokeFunction('convertToInteractive',\n",
              "                                                    [key], {});\n",
              "        if (!dataTable) return;\n",
              "\n",
              "        const docLinkHtml = 'Like what you see? Visit the ' +\n",
              "          '<a target=\"_blank\" href=https://colab.research.google.com/notebooks/data_table.ipynb>data table notebook</a>'\n",
              "          + ' to learn more about interactive tables.';\n",
              "        element.innerHTML = '';\n",
              "        dataTable['output_type'] = 'display_data';\n",
              "        await google.colab.output.renderOutput(dataTable, element);\n",
              "        const docLink = document.createElement('div');\n",
              "        docLink.innerHTML = docLinkHtml;\n",
              "        element.appendChild(docLink);\n",
              "      }\n",
              "    </script>\n",
              "  </div>\n",
              "\n",
              "    </div>\n",
              "  </div>\n"
            ]
          },
          "metadata": {},
          "execution_count": 10
        }
      ],
      "source": [
        "# handle missing values\n",
        "reviews_data = reviews_data.fillna(0)\n",
        "missing_zero_values_table(reviews_data)"
      ]
    },
    {
      "cell_type": "code",
      "execution_count": 11,
      "metadata": {
        "colab": {
          "base_uri": "https://localhost:8080/"
        },
        "id": "n-nVuGfzeHne",
        "outputId": "cacfb2fd-544d-49cc-bcbc-bcde74f1712d"
      },
      "outputs": [
        {
          "output_type": "stream",
          "name": "stdout",
          "text": [
            "<class 'pandas.core.frame.DataFrame'>\n",
            "RangeIndex: 10000 entries, 0 to 9999\n",
            "Data columns (total 7 columns):\n",
            " #   Column      Non-Null Count  Dtype \n",
            "---  ------      --------------  ----- \n",
            " 0   Restaurant  10000 non-null  object\n",
            " 1   Reviewer    10000 non-null  object\n",
            " 2   Review      10000 non-null  object\n",
            " 3   Rating      10000 non-null  object\n",
            " 4   Metadata    10000 non-null  object\n",
            " 5   Time        10000 non-null  object\n",
            " 6   Pictures    10000 non-null  int64 \n",
            "dtypes: int64(1), object(6)\n",
            "memory usage: 547.0+ KB\n"
          ]
        }
      ],
      "source": [
        "# print information about the dataset\n",
        "reviews_data.info()"
      ]
    },
    {
      "cell_type": "code",
      "execution_count": 12,
      "metadata": {
        "id": "39rodAc5eWzc"
      },
      "outputs": [],
      "source": [
        "# some of the ratings included the word 'Like' so we change it to 4 rating\n",
        "# (1: Hate, 2: Dislike, 3: Neutral, 4: Like, 5: Love)\n",
        "reviews_data['Rating'] = reviews_data['Rating'].replace('Like', '4')\n",
        "\n",
        "# convert rating column from object to numeric\n",
        "reviews_data['Rating'] = pd.to_numeric(reviews_data['Rating'])"
      ]
    },
    {
      "cell_type": "code",
      "execution_count": 71,
      "metadata": {
        "id": "9HhWcQBgfDZc",
        "colab": {
          "base_uri": "https://localhost:8080/",
          "height": 310
        },
        "outputId": "63d39b00-5d4f-4091-b940-f2fcdb5ebdf2"
      },
      "outputs": [
        {
          "output_type": "execute_result",
          "data": {
            "text/plain": [
              "        Restaurant              Reviewer  \\\n",
              "0  Beyond Flavours     Rusha Chakraborty   \n",
              "1  Beyond Flavours  Anusha Tirumalaneedi   \n",
              "2  Beyond Flavours       Ashok Shekhawat   \n",
              "3  Beyond Flavours        Swapnil Sarkar   \n",
              "4  Beyond Flavours                Dileep   \n",
              "\n",
              "                                              Review  Rating             Time  \\\n",
              "0  The ambience was good, food was quite good . h...     5.0  5/25/2019 15:54   \n",
              "1  Ambience is too good for a pleasant evening. S...     5.0  5/25/2019 14:20   \n",
              "2  A must try.. great food great ambience. Thnx f...     5.0  5/24/2019 22:54   \n",
              "3  Soumen das and Arun was a great guy. Only beca...     5.0  5/24/2019 22:11   \n",
              "4  Food is good.we ordered Kodi drumsticks and ba...     5.0  5/24/2019 21:37   \n",
              "\n",
              "   Pictures  RestaurantID  ReviewerID No. Reviews No. Followers  \n",
              "0         0             0           0   1 Review    2 Followers  \n",
              "1         0             0           1  3 Reviews    2 Followers  \n",
              "2         0             0           2  2 Reviews    3 Followers  \n",
              "3         0             0           3   1 Review     1 Follower  \n",
              "4         0             0           4  3 Reviews    2 Followers  "
            ],
            "text/html": [
              "\n",
              "  <div id=\"df-c79fb63d-ed74-44c3-adc9-2f61e85ed61f\" class=\"colab-df-container\">\n",
              "    <div>\n",
              "<style scoped>\n",
              "    .dataframe tbody tr th:only-of-type {\n",
              "        vertical-align: middle;\n",
              "    }\n",
              "\n",
              "    .dataframe tbody tr th {\n",
              "        vertical-align: top;\n",
              "    }\n",
              "\n",
              "    .dataframe thead th {\n",
              "        text-align: right;\n",
              "    }\n",
              "</style>\n",
              "<table border=\"1\" class=\"dataframe\">\n",
              "  <thead>\n",
              "    <tr style=\"text-align: right;\">\n",
              "      <th></th>\n",
              "      <th>Restaurant</th>\n",
              "      <th>Reviewer</th>\n",
              "      <th>Review</th>\n",
              "      <th>Rating</th>\n",
              "      <th>Time</th>\n",
              "      <th>Pictures</th>\n",
              "      <th>RestaurantID</th>\n",
              "      <th>ReviewerID</th>\n",
              "      <th>No. Reviews</th>\n",
              "      <th>No. Followers</th>\n",
              "    </tr>\n",
              "  </thead>\n",
              "  <tbody>\n",
              "    <tr>\n",
              "      <th>0</th>\n",
              "      <td>Beyond Flavours</td>\n",
              "      <td>Rusha Chakraborty</td>\n",
              "      <td>The ambience was good, food was quite good . h...</td>\n",
              "      <td>5.0</td>\n",
              "      <td>5/25/2019 15:54</td>\n",
              "      <td>0</td>\n",
              "      <td>0</td>\n",
              "      <td>0</td>\n",
              "      <td>1 Review</td>\n",
              "      <td>2 Followers</td>\n",
              "    </tr>\n",
              "    <tr>\n",
              "      <th>1</th>\n",
              "      <td>Beyond Flavours</td>\n",
              "      <td>Anusha Tirumalaneedi</td>\n",
              "      <td>Ambience is too good for a pleasant evening. S...</td>\n",
              "      <td>5.0</td>\n",
              "      <td>5/25/2019 14:20</td>\n",
              "      <td>0</td>\n",
              "      <td>0</td>\n",
              "      <td>1</td>\n",
              "      <td>3 Reviews</td>\n",
              "      <td>2 Followers</td>\n",
              "    </tr>\n",
              "    <tr>\n",
              "      <th>2</th>\n",
              "      <td>Beyond Flavours</td>\n",
              "      <td>Ashok Shekhawat</td>\n",
              "      <td>A must try.. great food great ambience. Thnx f...</td>\n",
              "      <td>5.0</td>\n",
              "      <td>5/24/2019 22:54</td>\n",
              "      <td>0</td>\n",
              "      <td>0</td>\n",
              "      <td>2</td>\n",
              "      <td>2 Reviews</td>\n",
              "      <td>3 Followers</td>\n",
              "    </tr>\n",
              "    <tr>\n",
              "      <th>3</th>\n",
              "      <td>Beyond Flavours</td>\n",
              "      <td>Swapnil Sarkar</td>\n",
              "      <td>Soumen das and Arun was a great guy. Only beca...</td>\n",
              "      <td>5.0</td>\n",
              "      <td>5/24/2019 22:11</td>\n",
              "      <td>0</td>\n",
              "      <td>0</td>\n",
              "      <td>3</td>\n",
              "      <td>1 Review</td>\n",
              "      <td>1 Follower</td>\n",
              "    </tr>\n",
              "    <tr>\n",
              "      <th>4</th>\n",
              "      <td>Beyond Flavours</td>\n",
              "      <td>Dileep</td>\n",
              "      <td>Food is good.we ordered Kodi drumsticks and ba...</td>\n",
              "      <td>5.0</td>\n",
              "      <td>5/24/2019 21:37</td>\n",
              "      <td>0</td>\n",
              "      <td>0</td>\n",
              "      <td>4</td>\n",
              "      <td>3 Reviews</td>\n",
              "      <td>2 Followers</td>\n",
              "    </tr>\n",
              "  </tbody>\n",
              "</table>\n",
              "</div>\n",
              "    <div class=\"colab-df-buttons\">\n",
              "\n",
              "  <div class=\"colab-df-container\">\n",
              "    <button class=\"colab-df-convert\" onclick=\"convertToInteractive('df-c79fb63d-ed74-44c3-adc9-2f61e85ed61f')\"\n",
              "            title=\"Convert this dataframe to an interactive table.\"\n",
              "            style=\"display:none;\">\n",
              "\n",
              "  <svg xmlns=\"http://www.w3.org/2000/svg\" height=\"24px\" viewBox=\"0 -960 960 960\">\n",
              "    <path d=\"M120-120v-720h720v720H120Zm60-500h600v-160H180v160Zm220 220h160v-160H400v160Zm0 220h160v-160H400v160ZM180-400h160v-160H180v160Zm440 0h160v-160H620v160ZM180-180h160v-160H180v160Zm440 0h160v-160H620v160Z\"/>\n",
              "  </svg>\n",
              "    </button>\n",
              "\n",
              "  <style>\n",
              "    .colab-df-container {\n",
              "      display:flex;\n",
              "      gap: 12px;\n",
              "    }\n",
              "\n",
              "    .colab-df-convert {\n",
              "      background-color: #E8F0FE;\n",
              "      border: none;\n",
              "      border-radius: 50%;\n",
              "      cursor: pointer;\n",
              "      display: none;\n",
              "      fill: #1967D2;\n",
              "      height: 32px;\n",
              "      padding: 0 0 0 0;\n",
              "      width: 32px;\n",
              "    }\n",
              "\n",
              "    .colab-df-convert:hover {\n",
              "      background-color: #E2EBFA;\n",
              "      box-shadow: 0px 1px 2px rgba(60, 64, 67, 0.3), 0px 1px 3px 1px rgba(60, 64, 67, 0.15);\n",
              "      fill: #174EA6;\n",
              "    }\n",
              "\n",
              "    .colab-df-buttons div {\n",
              "      margin-bottom: 4px;\n",
              "    }\n",
              "\n",
              "    [theme=dark] .colab-df-convert {\n",
              "      background-color: #3B4455;\n",
              "      fill: #D2E3FC;\n",
              "    }\n",
              "\n",
              "    [theme=dark] .colab-df-convert:hover {\n",
              "      background-color: #434B5C;\n",
              "      box-shadow: 0px 1px 3px 1px rgba(0, 0, 0, 0.15);\n",
              "      filter: drop-shadow(0px 1px 2px rgba(0, 0, 0, 0.3));\n",
              "      fill: #FFFFFF;\n",
              "    }\n",
              "  </style>\n",
              "\n",
              "    <script>\n",
              "      const buttonEl =\n",
              "        document.querySelector('#df-c79fb63d-ed74-44c3-adc9-2f61e85ed61f button.colab-df-convert');\n",
              "      buttonEl.style.display =\n",
              "        google.colab.kernel.accessAllowed ? 'block' : 'none';\n",
              "\n",
              "      async function convertToInteractive(key) {\n",
              "        const element = document.querySelector('#df-c79fb63d-ed74-44c3-adc9-2f61e85ed61f');\n",
              "        const dataTable =\n",
              "          await google.colab.kernel.invokeFunction('convertToInteractive',\n",
              "                                                    [key], {});\n",
              "        if (!dataTable) return;\n",
              "\n",
              "        const docLinkHtml = 'Like what you see? Visit the ' +\n",
              "          '<a target=\"_blank\" href=https://colab.research.google.com/notebooks/data_table.ipynb>data table notebook</a>'\n",
              "          + ' to learn more about interactive tables.';\n",
              "        element.innerHTML = '';\n",
              "        dataTable['output_type'] = 'display_data';\n",
              "        await google.colab.output.renderOutput(dataTable, element);\n",
              "        const docLink = document.createElement('div');\n",
              "        docLink.innerHTML = docLinkHtml;\n",
              "        element.appendChild(docLink);\n",
              "      }\n",
              "    </script>\n",
              "  </div>\n",
              "\n",
              "\n",
              "<div id=\"df-99799e11-9f84-4cc6-a7b5-1e5e1f135fb3\">\n",
              "  <button class=\"colab-df-quickchart\" onclick=\"quickchart('df-99799e11-9f84-4cc6-a7b5-1e5e1f135fb3')\"\n",
              "            title=\"Suggest charts\"\n",
              "            style=\"display:none;\">\n",
              "\n",
              "<svg xmlns=\"http://www.w3.org/2000/svg\" height=\"24px\"viewBox=\"0 0 24 24\"\n",
              "     width=\"24px\">\n",
              "    <g>\n",
              "        <path d=\"M19 3H5c-1.1 0-2 .9-2 2v14c0 1.1.9 2 2 2h14c1.1 0 2-.9 2-2V5c0-1.1-.9-2-2-2zM9 17H7v-7h2v7zm4 0h-2V7h2v10zm4 0h-2v-4h2v4z\"/>\n",
              "    </g>\n",
              "</svg>\n",
              "  </button>\n",
              "\n",
              "<style>\n",
              "  .colab-df-quickchart {\n",
              "      --bg-color: #E8F0FE;\n",
              "      --fill-color: #1967D2;\n",
              "      --hover-bg-color: #E2EBFA;\n",
              "      --hover-fill-color: #174EA6;\n",
              "      --disabled-fill-color: #AAA;\n",
              "      --disabled-bg-color: #DDD;\n",
              "  }\n",
              "\n",
              "  [theme=dark] .colab-df-quickchart {\n",
              "      --bg-color: #3B4455;\n",
              "      --fill-color: #D2E3FC;\n",
              "      --hover-bg-color: #434B5C;\n",
              "      --hover-fill-color: #FFFFFF;\n",
              "      --disabled-bg-color: #3B4455;\n",
              "      --disabled-fill-color: #666;\n",
              "  }\n",
              "\n",
              "  .colab-df-quickchart {\n",
              "    background-color: var(--bg-color);\n",
              "    border: none;\n",
              "    border-radius: 50%;\n",
              "    cursor: pointer;\n",
              "    display: none;\n",
              "    fill: var(--fill-color);\n",
              "    height: 32px;\n",
              "    padding: 0;\n",
              "    width: 32px;\n",
              "  }\n",
              "\n",
              "  .colab-df-quickchart:hover {\n",
              "    background-color: var(--hover-bg-color);\n",
              "    box-shadow: 0 1px 2px rgba(60, 64, 67, 0.3), 0 1px 3px 1px rgba(60, 64, 67, 0.15);\n",
              "    fill: var(--button-hover-fill-color);\n",
              "  }\n",
              "\n",
              "  .colab-df-quickchart-complete:disabled,\n",
              "  .colab-df-quickchart-complete:disabled:hover {\n",
              "    background-color: var(--disabled-bg-color);\n",
              "    fill: var(--disabled-fill-color);\n",
              "    box-shadow: none;\n",
              "  }\n",
              "\n",
              "  .colab-df-spinner {\n",
              "    border: 2px solid var(--fill-color);\n",
              "    border-color: transparent;\n",
              "    border-bottom-color: var(--fill-color);\n",
              "    animation:\n",
              "      spin 1s steps(1) infinite;\n",
              "  }\n",
              "\n",
              "  @keyframes spin {\n",
              "    0% {\n",
              "      border-color: transparent;\n",
              "      border-bottom-color: var(--fill-color);\n",
              "      border-left-color: var(--fill-color);\n",
              "    }\n",
              "    20% {\n",
              "      border-color: transparent;\n",
              "      border-left-color: var(--fill-color);\n",
              "      border-top-color: var(--fill-color);\n",
              "    }\n",
              "    30% {\n",
              "      border-color: transparent;\n",
              "      border-left-color: var(--fill-color);\n",
              "      border-top-color: var(--fill-color);\n",
              "      border-right-color: var(--fill-color);\n",
              "    }\n",
              "    40% {\n",
              "      border-color: transparent;\n",
              "      border-right-color: var(--fill-color);\n",
              "      border-top-color: var(--fill-color);\n",
              "    }\n",
              "    60% {\n",
              "      border-color: transparent;\n",
              "      border-right-color: var(--fill-color);\n",
              "    }\n",
              "    80% {\n",
              "      border-color: transparent;\n",
              "      border-right-color: var(--fill-color);\n",
              "      border-bottom-color: var(--fill-color);\n",
              "    }\n",
              "    90% {\n",
              "      border-color: transparent;\n",
              "      border-bottom-color: var(--fill-color);\n",
              "    }\n",
              "  }\n",
              "</style>\n",
              "\n",
              "  <script>\n",
              "    async function quickchart(key) {\n",
              "      const quickchartButtonEl =\n",
              "        document.querySelector('#' + key + ' button');\n",
              "      quickchartButtonEl.disabled = true;  // To prevent multiple clicks.\n",
              "      quickchartButtonEl.classList.add('colab-df-spinner');\n",
              "      try {\n",
              "        const charts = await google.colab.kernel.invokeFunction(\n",
              "            'suggestCharts', [key], {});\n",
              "      } catch (error) {\n",
              "        console.error('Error during call to suggestCharts:', error);\n",
              "      }\n",
              "      quickchartButtonEl.classList.remove('colab-df-spinner');\n",
              "      quickchartButtonEl.classList.add('colab-df-quickchart-complete');\n",
              "    }\n",
              "    (() => {\n",
              "      let quickchartButtonEl =\n",
              "        document.querySelector('#df-99799e11-9f84-4cc6-a7b5-1e5e1f135fb3 button');\n",
              "      quickchartButtonEl.style.display =\n",
              "        google.colab.kernel.accessAllowed ? 'block' : 'none';\n",
              "    })();\n",
              "  </script>\n",
              "</div>\n",
              "    </div>\n",
              "  </div>\n"
            ]
          },
          "metadata": {},
          "execution_count": 71
        }
      ],
      "source": [
        "'''\n",
        "يمكن ما نحتاجه\n",
        "'''\n",
        "# split the metadata into no. reviews and no. followers\n",
        "reviews_data[\"Metadata\"] = reviews_data[\"Metadata\"].astype(\"str\")\n",
        "reviews_data[['No. Reviews','No. Followers']] = reviews_data[\"Metadata\"].str.split(\",\" , expand=True)\n",
        "reviews_data.drop('Metadata', inplace=True, axis=1)\n",
        "reviews_data.head()"
      ]
    },
    {
      "cell_type": "code",
      "execution_count": 72,
      "metadata": {
        "colab": {
          "base_uri": "https://localhost:8080/"
        },
        "id": "KPU8PMOxhKZv",
        "outputId": "69ce1c3f-a508-4869-d926-5a358e6c19f5"
      },
      "outputs": [
        {
          "output_type": "stream",
          "name": "stderr",
          "text": [
            "<ipython-input-72-481e516ed970>:5: FutureWarning: The default value of regex will change from True to False in a future version.\n",
            "  reviews_data['No. Reviews'] = pd.to_numeric(reviews_data['No. Reviews'].str.replace(r'\\D+', ''))\n",
            "<ipython-input-72-481e516ed970>:6: FutureWarning: The default value of regex will change from True to False in a future version.\n",
            "  reviews_data['No. Followers'] = pd.to_numeric(reviews_data['No. Followers'].str.replace(r'\\D+', ''))\n"
          ]
        }
      ],
      "source": [
        "'''\n",
        "يمكن ما نحتاجه\n",
        "'''\n",
        "# convert the columns from objects into numerics\n",
        "reviews_data['No. Reviews'] = pd.to_numeric(reviews_data['No. Reviews'].str.replace(r'\\D+', ''))\n",
        "reviews_data['No. Followers'] = pd.to_numeric(reviews_data['No. Followers'].str.replace(r'\\D+', ''))"
      ]
    },
    {
      "cell_type": "code",
      "execution_count": 73,
      "metadata": {
        "colab": {
          "base_uri": "https://localhost:8080/"
        },
        "id": "1lGQXwgwhX4t",
        "outputId": "58955ba5-2ad1-46f7-8349-8525ab6b3f88"
      },
      "outputs": [
        {
          "output_type": "stream",
          "name": "stdout",
          "text": [
            "<class 'pandas.core.frame.DataFrame'>\n",
            "RangeIndex: 10000 entries, 0 to 9999\n",
            "Data columns (total 10 columns):\n",
            " #   Column         Non-Null Count  Dtype  \n",
            "---  ------         --------------  -----  \n",
            " 0   Restaurant     10000 non-null  object \n",
            " 1   Reviewer       10000 non-null  object \n",
            " 2   Review         10000 non-null  object \n",
            " 3   Rating         10000 non-null  float64\n",
            " 4   Time           10000 non-null  object \n",
            " 5   Pictures       10000 non-null  int64  \n",
            " 6   RestaurantID   10000 non-null  int64  \n",
            " 7   ReviewerID     10000 non-null  int64  \n",
            " 8   No. Reviews    10000 non-null  int64  \n",
            " 9   No. Followers  8384 non-null   float64\n",
            "dtypes: float64(2), int64(4), object(4)\n",
            "memory usage: 781.4+ KB\n"
          ]
        }
      ],
      "source": [
        "# check changing types\n",
        "reviews_data.info()"
      ]
    },
    {
      "cell_type": "code",
      "execution_count": 16,
      "metadata": {
        "id": "JHh933SQQ4cq"
      },
      "outputs": [],
      "source": [
        "# create dictionary to store restaurants names and their IDs\n",
        "rest_name_mapping = {}\n",
        "rest_name_count = 0\n",
        "\n",
        "# assign IDs to names while keeping track of repeated names\n",
        "for name in reviews_data['Restaurant']:\n",
        "    if name not in rest_name_mapping:\n",
        "        rest_name_mapping[name] = rest_name_count\n",
        "        rest_name_count += 1\n",
        "    reviews_data['RestaurantID'] = reviews_data['Restaurant'].map(rest_name_mapping)"
      ]
    },
    {
      "cell_type": "code",
      "execution_count": 17,
      "metadata": {
        "id": "GElo1wg1RIYt"
      },
      "outputs": [],
      "source": [
        "# create dictionary to store reviewers names and their IDs\n",
        "rev_name_mapping = {}\n",
        "rev_name_count = 0\n",
        "\n",
        "# assign IDs to names while keeping track of repeated names\n",
        "for name in reviews_data['Reviewer']:\n",
        "    if name not in rev_name_mapping:\n",
        "        rev_name_mapping[name] = rev_name_count\n",
        "        rev_name_count += 1\n",
        "    reviews_data['ReviewerID'] = reviews_data['Reviewer'].map(rev_name_mapping)"
      ]
    },
    {
      "cell_type": "markdown",
      "metadata": {
        "id": "ysalbdgblVQ2"
      },
      "source": [
        "#### Find implicit feedback\n",
        "We will create a matrix between reviewers and restaurant. This user-by-item interaction matrix is the click matrix. and the number of clicks is one of the implicit feedacks types."
      ]
    },
    {
      "cell_type": "code",
      "execution_count": 18,
      "metadata": {
        "id": "K3Inbb8ZlaR3"
      },
      "outputs": [],
      "source": [
        "# create a function that works as a counter\n",
        "'''\n",
        "we will use it to count the:\n",
        "- number of users\n",
        "- number of items\n",
        "'''\n",
        "def count(data, column):\n",
        "  counter = data[[column]].groupby(column, as_index=False)\n",
        "  i = counter.size()\n",
        "  return i"
      ]
    },
    {
      "cell_type": "code",
      "execution_count": 19,
      "metadata": {
        "id": "sH2KrQtC8IGl"
      },
      "outputs": [],
      "source": [
        "# create a function that calculate number of clicks\n",
        "'''\n",
        "The function filters the dataset to only include (user, item, ratings) where\n",
        "the item has been clicked on by at least `min_uc` users and the user has clicked\n",
        "on at least `min_ic` items.\n",
        "the function returns:\n",
        "- data: the filtered dataset\n",
        "- userCount: containing the number of restaurants clicked on by each reviewer.\n",
        "- itemCount: containing the number of reviewer who have clicked on each item.\n",
        "only keep items that are clicked on by at least 5 users\n",
        "'''\n",
        "def filter(data, min_ic=5, min_uc=0):\n",
        "  # keep items that were clicked by at least min_uc users\n",
        "  if min_uc > 0:\n",
        "    itemCount = count(data, 'RestaurantID')\n",
        "    restaurants = itemCount[itemCount >= min_uc].index\n",
        "    data = data[data['RestaurantID'].isin(restaurants)]\n",
        "\n",
        "  # keep users who clicked on at least min_uc\n",
        "  if min_ic > 0:\n",
        "    userCount = count(data, 'ReviewerID')\n",
        "    reviewers = userCount[userCount >= min_ic].index\n",
        "    data = data[data['ReviewerID'].isin(reviewers)]\n",
        "\n",
        "  # update the numbers after filtering\n",
        "  userCount, itemCount = count(data, 'ReviewerID'), count(data, 'RestaurantID')\n",
        "\n",
        "  return data, userCount, itemCount"
      ]
    },
    {
      "cell_type": "code",
      "execution_count": 20,
      "metadata": {
        "id": "LOlwk_arCpYc"
      },
      "outputs": [],
      "source": [
        "data, user_activity, item_popularity = filter(reviews_data)"
      ]
    },
    {
      "cell_type": "code",
      "execution_count": 21,
      "metadata": {
        "colab": {
          "base_uri": "https://localhost:8080/"
        },
        "id": "ms8rQQ7qSAOI",
        "outputId": "52044622-d7f4-4c24-de37-151f90186bfe"
      },
      "outputs": [
        {
          "output_type": "stream",
          "name": "stdout",
          "text": [
            "After filtering, there are 10000 reviewing events from 7447 users and 100 restaurants (sparsity: 1.343%)\n"
          ]
        }
      ],
      "source": [
        "# check on the data (sparsity & general info)\n",
        "sparsity = 1. * data.shape[0] / (user_activity.shape[0] * item_popularity.shape[0])\n",
        "print(\"After filtering, there are %d reviewing events from %d users and %d restaurants (sparsity: %.3f%%)\" %\n",
        "      (data.shape[0], user_activity.shape[0], item_popularity.shape[0], sparsity * 100))"
      ]
    },
    {
      "cell_type": "markdown",
      "metadata": {
        "id": "WPT933f1V1zs"
      },
      "source": [
        "#### Split into `train`, `test`, and `validate`\n",
        "We will perform data splitting by defining three sets of users:\n",
        "- train users are used to train the model.\n",
        "- validation users are used to tune the model's hyperparameters.\n",
        "- test users are used to evaluate the model's performance.\n",
        "we will assign a number of heldout users to `test` and `validate` sets and the rest will be for `train` set.\n",
        "\n",
        "And to ensure equal seperation we will shuffle the users IDs as our first step"
      ]
    },
    {
      "cell_type": "code",
      "execution_count": 22,
      "metadata": {
        "id": "YyVzqPcESLPh"
      },
      "outputs": [],
      "source": [
        "'''\n",
        "this part shuffles the order of the unique user IDs `unique_uid`\n",
        "'''\n",
        "# assign the unique user IDs from the `user_activity` to the variable `unique_uid`\n",
        "unique_uid = user_activity.index\n",
        "# sets the seed for the random number to ensure the same sequence.\n",
        "np.random.seed(50)\n",
        "# shuffle the order of the users\n",
        "shuffleID = np.random.permutation(unique_uid.size)\n",
        "unique_uid = unique_uid[shuffleID]"
      ]
    },
    {
      "cell_type": "code",
      "execution_count": 23,
      "metadata": {
        "id": "yM1Bwnf1U3zX"
      },
      "outputs": [],
      "source": [
        "'''\n",
        "this part defines the sets\n",
        "'''\n",
        "# the number of users and the number of users to hold out for splitting\n",
        "n_users = unique_uid.size\n",
        "n_heldout_users = 2000\n",
        "\n",
        "train = unique_uid[:(n_users - n_heldout_users * 2)]\n",
        "validate = unique_uid[(n_users - n_heldout_users * 2): (n_users - n_heldout_users)]\n",
        "test = unique_uid[(n_users - n_heldout_users):]"
      ]
    },
    {
      "cell_type": "code",
      "execution_count": 24,
      "metadata": {
        "id": "Q3J7UgIcXU1U"
      },
      "outputs": [],
      "source": [
        "# select subset of data where the `ReviewerID` values belong to the `train` set\n",
        "train_data = reviews_data.loc[reviews_data['ReviewerID'].isin(train)]"
      ]
    },
    {
      "cell_type": "code",
      "execution_count": 25,
      "metadata": {
        "id": "AUzdydUaXk5h"
      },
      "outputs": [],
      "source": [
        "# extract the unique `RestaurantID` from the train_data\n",
        "# means (restaurant associated with user interactions)\n",
        "unique_iid = pd.unique(train_data['RestaurantID'])"
      ]
    },
    {
      "cell_type": "code",
      "execution_count": 26,
      "metadata": {
        "id": "U_Dph00hXyqx"
      },
      "outputs": [],
      "source": [
        "# dictionaries to map unique IDs to indices\n",
        "# can be used to represent both IDs in other data structures, such as matrices\n",
        "restaurant2id = dict((rid, i) for (i, rid) in enumerate(unique_iid))\n",
        "profile2id = dict((pid, i) for (i, pid) in enumerate(unique_uid))"
      ]
    },
    {
      "cell_type": "code",
      "execution_count": 27,
      "metadata": {
        "id": "hVUO_MzxX2Lu"
      },
      "outputs": [],
      "source": [
        "'''\n",
        "this part will create a directory to save a list of unique IDs into a file\n",
        "'''\n",
        "# initialize the path of the directory that will be created\n",
        "dir = os.path.join('/content', 'files')\n",
        "\n",
        "# create the directory if it wasn't existed\n",
        "if not os.path.exists(dir):\n",
        "    os.makedirs(dir)\n",
        "\n",
        "# create and write into the text file\n",
        "with open(os.path.join(dir, 'movies IDs.txt'), 'w') as f:\n",
        "    for iid in unique_iid:\n",
        "        f.write('%s\\n' % iid)"
      ]
    },
    {
      "cell_type": "code",
      "execution_count": 28,
      "metadata": {
        "id": "lbmLwTLjYv5I"
      },
      "outputs": [],
      "source": [
        "'''\n",
        "this function splits the dataset into `train` and `test` sets\n",
        "based on a specified proportion of items for each user\n",
        "'''\n",
        "def split_train_test_proportion(data, prop=0.2):\n",
        "  # creates a group of items for each user in the dataset\n",
        "  dataGrouped = data.groupby('ReviewerID')\n",
        "\n",
        "  # create empty lists for `train` and `test` sets\n",
        "  train_list, test_list = list(), list()\n",
        "\n",
        "  # seed the random number to ensure the same sequence\n",
        "  np.random.seed(50)\n",
        "\n",
        "  # iterates over the groups of items\n",
        "  for i, (_, group) in enumerate(dataGrouped):\n",
        "    n_items = len(group) # check number if items (restaurant) for each user\n",
        "\n",
        "    # if the number of items is greater than or equal to 5, a random sample\n",
        "    # of items is selected for the `test` set\n",
        "    if n_items >= 5:\n",
        "      idx = np.zeros(n_items, dtype='bool')\n",
        "\n",
        "      # The size of the sample is determined by multiplying the number of items\n",
        "      # by the prop value. the selected items are marked using an array of boolean values.\n",
        "      idx[np.random.choice(n_items, size=int(prop * n_items), replace=False).astype('int64')] = True\n",
        "\n",
        "      # add items to `train` and `test` lists:\n",
        "      # items are not selected for the test set are added to the `train_list`\n",
        "      # items are selected for the test set are added to the `test_list`\n",
        "      train_list.append(group[np.logical_not(idx)])\n",
        "      test_list.append(group[idx])\n",
        "\n",
        "    #  if the number of items is less than 5, add items to the `train` list\n",
        "    else:\n",
        "      train_list.append(group)\n",
        "\n",
        "    # print progress. for every 200 users, a message is printed to indicate\n",
        "    # the number of users that have been sampled\n",
        "    if i % 200 == 0:\n",
        "      print(\"%d users sampled\" % i)\n",
        "      sys.stdout.flush()\n",
        "\n",
        "  data_train = pd.concat(train_list)\n",
        "  data_test = pd.concat(test_list)\n",
        "\n",
        "  return data_train, data_test"
      ]
    },
    {
      "cell_type": "code",
      "execution_count": 29,
      "metadata": {
        "id": "jlpXgch4ZDSo",
        "colab": {
          "base_uri": "https://localhost:8080/"
        },
        "outputId": "7f97ed8d-01be-47b7-bfb6-6fa8b5ea5128"
      },
      "outputs": [
        {
          "output_type": "stream",
          "name": "stdout",
          "text": [
            "0 users sampled\n",
            "200 users sampled\n",
            "400 users sampled\n",
            "600 users sampled\n",
            "800 users sampled\n",
            "1000 users sampled\n",
            "1200 users sampled\n",
            "1400 users sampled\n",
            "1600 users sampled\n",
            "1800 users sampled\n"
          ]
        }
      ],
      "source": [
        "# only include rows where the IDs values are present in the validate set\n",
        "valid_data = reviews_data.loc[reviews_data['ReviewerID'].isin(validate)]\n",
        "valid_data = valid_data.loc[valid_data['RestaurantID'].isin(unique_iid)]\n",
        "\n",
        "# split validation data\n",
        "valid_data_train, valid_data_test = split_train_test_proportion(valid_data)"
      ]
    },
    {
      "cell_type": "code",
      "execution_count": 30,
      "metadata": {
        "id": "su8_RGohZVOh",
        "colab": {
          "base_uri": "https://localhost:8080/"
        },
        "outputId": "fe1eeacc-11b4-49fa-8f32-4844d9b822d2"
      },
      "outputs": [
        {
          "output_type": "stream",
          "name": "stdout",
          "text": [
            "0 users sampled\n",
            "200 users sampled\n",
            "400 users sampled\n",
            "600 users sampled\n",
            "800 users sampled\n",
            "1000 users sampled\n",
            "1200 users sampled\n",
            "1400 users sampled\n",
            "1600 users sampled\n",
            "1800 users sampled\n"
          ]
        }
      ],
      "source": [
        "# only include rows where the IDs values are present in the test set\n",
        "test_data = reviews_data.loc[reviews_data['ReviewerID'].isin(test)]\n",
        "test_data = test_data.loc[test_data['RestaurantID'].isin(unique_iid)]\n",
        "\n",
        "# split testing data\n",
        "test_data_train, test_data_test = split_train_test_proportion(test_data)"
      ]
    },
    {
      "cell_type": "code",
      "execution_count": 31,
      "metadata": {
        "id": "ouyKHds9Z2Zq"
      },
      "outputs": [],
      "source": [
        "'''\n",
        "takes a dataset and returns a new DataFrame with the ReviewrsId and\n",
        "RestaurantId columns, by iterating over the IDs columns of the data and using\n",
        "the map() function to apply the dictionaries to each IDs columns\n",
        "'''\n",
        "def numerize(Data):\n",
        "    uid = list(map(lambda x: profile2id[x], Data['ReviewerID']))\n",
        "    iid = list(map(lambda x: restaurant2id[x], Data['RestaurantID']))\n",
        "    return pd.DataFrame(data={'userid': uid, 'itemid': iid}, columns=['userid', 'itemid'])"
      ]
    },
    {
      "cell_type": "code",
      "execution_count": 32,
      "metadata": {
        "id": "KwGGAM5-aF8x"
      },
      "outputs": [],
      "source": [
        "# numerize data and save it as csv file\n",
        "\n",
        "# train\n",
        "trainData = numerize(train_data)\n",
        "trainData.to_csv(os.path.join(dir, 'train.csv'), index=False)\n",
        "\n",
        "# validate\n",
        "valid_data_tr = numerize(valid_data_train)\n",
        "valid_data_tr.to_csv(os.path.join(dir, 'validation_train.csv'), index=False)\n",
        "\n",
        "valid_data_te = numerize(valid_data_test)\n",
        "valid_data_te.to_csv(os.path.join(dir, 'validation_test.csv'), index=False)\n",
        "\n",
        "# test\n",
        "test_data_tr = numerize(test_data_train)\n",
        "test_data_tr.to_csv(os.path.join(dir, 'test_train.csv'), index=False)\n",
        "\n",
        "test_data_te = numerize(test_data_test)\n",
        "test_data_te.to_csv(os.path.join(dir, 'test_test.csv'), index=False)"
      ]
    },
    {
      "cell_type": "markdown",
      "metadata": {
        "id": "_pchjfplapjb"
      },
      "source": [
        "## Build Models\n"
      ]
    },
    {
      "cell_type": "markdown",
      "source": [
        "We define two related models: denoising autoencoder with multinomial likelihood (Multi-DAE in the paper) and partially-regularized variational autoencoder with multinomial likelihood (Multi-VAE^{PR} in the paper)."
      ],
      "metadata": {
        "id": "JdeGFF3msrLG"
      }
    },
    {
      "cell_type": "markdown",
      "source": [
        "#### **MultiDAE class**\n",
        "A multi-layer autoencoder is a type of neural network that is used to learn a compressed representation of the input data. This compressed representation is also known as a latent representation, and it captures the underlying patterns and relationships within the data.\n",
        "\n",
        "The autoencoder consists of two main parts: an encoder and a decoder. The encoder takes the input data and compresses it into a latent representation. The decoder then takes the latent representation and reconstructs the original input data.\n",
        "\n",
        "  * `p_dims:` Defines the dimensions of the input layer and the p-encoder network\n",
        "  * `q_dims (optional):` Defines the dimensions of the q-decoder network. If not provided, it defaults to the reverse order of p_dims.\n",
        "  * `lam:` Regularization parameter (lambda) for l2 regularization.\n",
        "  * `lr:` Learning rate for the Adam optimizer.\n",
        "  * `random_seed:` Optional random seed for weight initialization."
      ],
      "metadata": {
        "id": "C2jTBUpAtv-s"
      }
    },
    {
      "cell_type": "code",
      "execution_count": 33,
      "metadata": {
        "id": "v0nymDWQavyq"
      },
      "outputs": [],
      "source": [
        "'''\n",
        "this part is for the building of the first model\n",
        "(Denoising Autoencoder with Multinomial Likelihood - Multi DAE)\n",
        "which implements a multi-layer autoencoder neural network architecture.\n",
        "the autoencoder aims to learn a compressed representation of the input data,\n",
        "capturing the underlying patterns and relationships within the data.\n",
        "'''\n",
        "class MultiDAE(object):\n",
        "  # class initialization (initializes the autoencoder)\n",
        "  def __init__(self, p_dims, q_dims=None, lam=0.01, lr=1e-3, random_seed=None):\n",
        "    self.p_dims = p_dims\n",
        "\n",
        "    # sets self.q_dims to the reverse order of p_dims if not provided\n",
        "    if q_dims is None:\n",
        "      self.q_dims = p_dims[::-1]\n",
        "    # checks that the dimensions of the autoencoder are equal and that the latent dimension is consistent between the p- and q-networks\n",
        "    else:\n",
        "      assert q_dims[0] == p_dims[-1], \"Input and output dimension must equal each other for autoencoders.\"\n",
        "      assert q_dims[-1] == p_dims[0], \"Latent dimension for p- and q-network mismatches.\"\n",
        "      self.q_dims = q_dims\n",
        "\n",
        "    self.dims = self.q_dims + self.p_dims[1:]\n",
        "    self.lam = lam\n",
        "    self.lr = lr\n",
        "    self.random_seed = random_seed\n",
        "    self.construct_placeholders()\n",
        "\n",
        "# -----\n",
        "  # creates two placeholders\n",
        "  def construct_placeholders(self):\n",
        "    # this placeholder holds the input data, which has a shape of (batch_size, input_dimension)\n",
        "    self.input_ph = tf.placeholder(\n",
        "        dtype=tf.float32, shape=[None, self.dims[0]])\n",
        "    # this placeholder holds the dropout probability, which is used for regularization, its default value is 1.0 no dropout is applied\n",
        "    self.keep_prob_ph = tf.placeholder_with_default(1.0, shape=None)\n",
        "\n",
        "# -----\n",
        "\n",
        "  # constructs the entire graph of the autoencoder, including the encoder,\n",
        "  # decoder, loss function, optimizer, and summary statistics\n",
        "  def build_graph(self):\n",
        "    # call the `construct_weights` method to initializ weights & biases of the autoencoder\n",
        "    self.construct_weights()\n",
        "\n",
        "    # call the `forward_pass` method, which performs the forward pass through\n",
        "    # the autoencoder and returns a saver object and the logits (output of the final layer) of the autoencoder\n",
        "    saver, logits = self.forward_pass()\n",
        "\n",
        "    # logits are passed through the tf.nn.log_softmax function to compute the log softmax values\n",
        "    log_softmax_var = tf.nn.log_softmax(logits)\n",
        "\n",
        "    # per-user average negative log-likelihood\n",
        "    # negative log-likelihood (neg_ll) is computed by multiplying the log softmax values with the input and taking the mean across the batch\n",
        "    neg_ll = -tf.reduce_mean(tf.reduce_sum(\n",
        "        log_softmax_var * self.input_ph, axis=1))\n",
        "\n",
        "    # apply L2 regularization to weights and summing them\n",
        "    reg = tf.keras.regularizers.l2(l2=self.lam)\n",
        "    reg_var = tf.reduce_sum([reg(w) for w in self.weights])\n",
        "\n",
        "    # loss is the sum of the negative log-likelihood and two times the regularization term\n",
        "    # tensorflow l2 regularization multiply 0.5 to the l2 norm\n",
        "    # multiply 2 so that it is back in the same scale\n",
        "    loss = neg_ll + 2 * reg_var\n",
        "\n",
        "    # AdamOptimizer is used to minimize the loss\n",
        "    train_op = tf.train.AdamOptimizer(self.lr).minimize(loss)\n",
        "\n",
        "    # add summary statistics\n",
        "    # summary statistics can be used to monitor the training process of the autoencoder\n",
        "    tf.summary.scalar('negative_multi_ll', neg_ll)\n",
        "    tf.summary.scalar('loss', loss)\n",
        "    merged = tf.summary.merge_all() # merge the summaries\n",
        "\n",
        "    return saver, logits, loss, train_op, merged\n",
        "\n",
        "# -----\n",
        "\n",
        "  def forward_pass(self):\n",
        "    # construct forward graph\n",
        "    # ensures that the input vectors have unit length.\n",
        "    h = tf.nn.l2_normalize(self.input_ph, 1)\n",
        "\n",
        "    # passed through a dropout layer helps prevent overfitting\n",
        "    h = tf.nn.dropout(h, self.keep_prob_ph)\n",
        "\n",
        "    # iterates over the weights and biases of each layer in the autoencoder\n",
        "    for i, (w, b) in enumerate(zip(self.weights, self.biases)):\n",
        "      #  input tensor h is multiplied by the weight matrix w and then added to the bias vector b\n",
        "      h = tf.matmul(h, w) + b\n",
        "\n",
        "      # checks if the current layer is not the last layer (i.e., not the output layer)\n",
        "      # If it's not the last layer, the next step is executed.\n",
        "      if i != len(self.weights) - 1:\n",
        "        # output tensor h from the previous layer is passed through the hyperbolic tangent (tanh) activation function using tf.nn.tanh. This introduces non-linearity into the autoencoder, allowing it to learn more complex representations\n",
        "        h = tf.nn.tanh(h)\n",
        "\n",
        "    return tf.train.Saver(), h\n",
        "\n",
        "# -----\n",
        "\n",
        "# method is responsible for initializing the weights and biases of the autoencoder\n",
        "  def construct_weights(self):\n",
        "    # Initialize empty lists to store the weight matrices and bias vectors of each layer\n",
        "    self.weights = []\n",
        "    self.biases = []\n",
        "\n",
        "    # define weights\n",
        "    # iterates over the dimensions of the layers in the autoencoder, except for the last dimension (output dimension)\n",
        "    for i, (d_in, d_out) in enumerate(zip(self.dims[:-1], self.dims[1:])):\n",
        "      # Generate unique names for the weight and bias variables of the current layer using the current layer index\n",
        "      weight_key = \"weight_{}to{}\".format(i, i+1)\n",
        "      bias_key = \"bias_{}\".format(i+1)\n",
        "\n",
        "      # initializes the weight matrix of the current layer\n",
        "      # weight matrix is initialized using the Glorot normal initializer (tf.keras.initializers.glorot_normal), which is a commonly used initializer for neural networks. It helps with proper weight initialization and reduces the likelihood of vanishing or exploding gradients.\n",
        "      # seed parameter of the initializer is set to self.random_seed for reproducibility\n",
        "      self.weights.append(tf.get_variable(\n",
        "          # weight matrix is named with weight_key\n",
        "          name=weight_key, shape=[d_in, d_out],\n",
        "          initializer=tf.keras.initializers.glorot_normal(\n",
        "              seed=self.random_seed)))\n",
        "\n",
        "      # bias vector is initialized using a truncated normal initializer (tf.truncated_normal_initializer) with a standard deviation of 0.001. This initializes the biases with small random values close to zero\n",
        "      self.biases.append(tf.get_variable(\n",
        "          name=bias_key, shape=[d_out],\n",
        "          initializer=tf.truncated_normal_initializer(\n",
        "              stddev=0.001, seed=self.random_seed)))\n",
        "\n",
        "      # add summary stats\n",
        "      tf.summary.histogram(weight_key, self.weights[-1])\n",
        "      tf.summary.histogram(bias_key, self.biases[-1])"
      ]
    },
    {
      "cell_type": "markdown",
      "source": [
        "#### **MultiVAE class**\n",
        "A variational autoencoder is a type of generative model that learns to encode and decode data. It consists of an encoder network that maps input data to a latent space, and a decoder network that reconstructs the input data from the latent space. The VAE is trained to maximize the evidence lower bound (ELBO), which is a trade-off between the reconstruction accuracy and the regularization of the latent space.\n",
        "\n",
        "The code defines a class named MultiVAE that extends the MultiDAE class. The MultiDAE class likely represents a multi-layer denoising autoencoder (DAE) used as a pretraining step for the VAE"
      ],
      "metadata": {
        "id": "m9OGJhqRBmfz"
      }
    },
    {
      "cell_type": "code",
      "execution_count": 34,
      "metadata": {
        "id": "Htg732xva7kr"
      },
      "outputs": [],
      "source": [
        "class MultiVAE(MultiDAE):\n",
        "\n",
        "  def construct_placeholders(self):\n",
        "    # calls the construct_placeholders method of the parent class, MultiDAE, to create the base placeholders.\n",
        "    # Additionally, it creates two extra placeholders: is_training_ph for specifying whether the model is in training mode,\n",
        "    # and anneal_ph for controlling the annealing factor used in the VAE loss function\n",
        "    super(MultiVAE, self).construct_placeholders()\n",
        "    # placeholders with default values when scoring\n",
        "    self.is_training_ph = tf.placeholder_with_default(0., shape=None)\n",
        "    self.anneal_ph = tf.placeholder_with_default(1., shape=None)\n",
        "\n",
        "#-----\n",
        "\n",
        "  # onstructs the computational graph for the VAE. It initializes the weights and biases of the VAE, performs the forward pass, calculates the VAE loss, creates a training operation, and adds summary statistics for monitoring during training.\n",
        "  def build_graph(self):\n",
        "    self._construct_weights()\n",
        "    # KL Divergence is essential to measure the similarity or dissimilarity between probability distributions\n",
        "    saver, logits, KL = self.forward_pass()\n",
        "    log_softmax_var = tf.nn.log_softmax(logits)\n",
        "    # multiplying the log probabilities with the input placeholder (self.input_ph), summing across the last axis, and taking the negative mean\n",
        "    neg_ll = -tf.reduce_mean(tf.reduce_sum(\n",
        "        log_softmax_var * self.input_ph,\n",
        "        axis=-1))\n",
        "    # apply regularization to weights\n",
        "    # reg = l2_regularizer(self.lam)\n",
        "    reg = tf.keras.regularizers.l2(l2=self.lam)\n",
        "    reg_var = tf.reduce_sum([reg(w) for w in self.weights_q + self.weights_p])\n",
        "    # reg_var = apply_regularization(reg, self.weights_q + self.weights_p)\n",
        "    # tensorflow l2 regularization multiply 0.5 to the l2 norm\n",
        "    # multiply 2 so that it is back in the same scale\n",
        "\n",
        "    # final VAE loss (neg_ELBO) is the sum of the negative log-likelihood, annealed KL divergence (multiplied by self.anneal_ph), and twice the regularization term. It is used as the objective to minimize during training\n",
        "    neg_ELBO = neg_ll + self.anneal_ph * KL + 2 * reg_var\n",
        "    train_op = tf.train.AdamOptimizer(self.lr).minimize(neg_ELBO)\n",
        "\n",
        "    # add summary statistics\n",
        "    tf.summary.scalar('negative_multi_ll', neg_ll)\n",
        "    tf.summary.scalar('KL', KL)\n",
        "    tf.summary.scalar('neg_ELBO_train', neg_ELBO)\n",
        "    merged = tf.summary.merge_all()\n",
        "\n",
        "    return saver, logits, neg_ELBO, train_op, merged\n",
        "\n",
        "#-----\n",
        "\n",
        "  # defines the computation graph for the encoder (q-network) of the VAE.\n",
        "  def q_graph(self):\n",
        "    mu_q, std_q, KL = None, None, None\n",
        "    h = tf.nn.l2_normalize(self.input_ph, 1)\n",
        "    h = tf.nn.dropout(h, self.keep_prob_ph)\n",
        "\n",
        "    # iterates over the weights (self.weights_q) and biases (self.biases_q) of the encoder layers\n",
        "    for i, (w, b) in enumerate(zip(self.weights_q, self.biases_q)):\n",
        "      h = tf.matmul(h, w) + b\n",
        "      # If it's not the last layer, it applies the hyperbolic tangent activation function (tf.nn.tanh) to the output.\n",
        "      if i != len(self.weights_q) - 1:\n",
        "        h = tf.nn.tanh(h)\n",
        "\n",
        "      # For the last layer, it splits the output into two parts: mu_q and logvar_q.\n",
        "      # mu_q represents the mean of the learned latent variables,\n",
        "      # and logvar_q represents the logarithm of the variance of the latent variables.\n",
        "      # The standard deviation (std_q) is computed as the exponential of half the logvar_q.\n",
        "      # KL divergence (KL) is calculated using the formula for the Kullback-Leibler divergence between the approximate posterior distribution and the prior distribution. It measures the difference between these two distributions.\n",
        "      else:\n",
        "        mu_q = h[:, :self.q_dims[-1]]\n",
        "        logvar_q = h[:, self.q_dims[-1]:]\n",
        "        std_q = tf.exp(0.5 * logvar_q)\n",
        "        KL = tf.reduce_mean(tf.reduce_sum(\n",
        "            0.5 * (-logvar_q + tf.exp(logvar_q) + mu_q**2 - 1), axis=1))\n",
        "\n",
        "    return mu_q, std_q, KL\n",
        "\n",
        "#------\n",
        "\n",
        "  # method defines the computation graph for the decoder (p-network) of the VAE\n",
        "  def p_graph(self, z):\n",
        "    # takes the latent variables z as input and processes them through the decoder layers defined by self.weights_p and self.biases_p\n",
        "    h = z\n",
        "\n",
        "    # Similar to the encoder, it performs matrix multiplications and applies the hyperbolic tangent activation function to the intermediate layers. The output of the last layer is returned\n",
        "    for i, (w, b) in enumerate(zip(self.weights_p, self.biases_p)):\n",
        "      h = tf.matmul(h, w) + b\n",
        "\n",
        "      if i != len(self.weights_p) - 1:\n",
        "        h = tf.nn.tanh(h)\n",
        "\n",
        "    return h\n",
        "\n",
        "#-----\n",
        "\n",
        "  def forward_pass(self):\n",
        "    # q-network\n",
        "    mu_q, std_q, KL = self.q_graph()\n",
        "    # generates a random noise tensor (epsilon) with the same shape as std_q using tf.random_normal. The noise is scaled by std_q and added to mu_q to obtain sampled_z, which represents a sample from the approximate posterior distribution.\n",
        "    epsilon = tf.random_normal(tf.shape(std_q))\n",
        "    # sampled_z through the decoder (p_graph) to obtain the logits, which are the outputs of the generative model\n",
        "    sampled_z = mu_q + self.is_training_ph * epsilon * std_q\n",
        "\n",
        "    # p-network\n",
        "    logits = self.p_graph(sampled_z)\n",
        "\n",
        "    return tf.train.Saver(), logits, KL\n",
        "\n",
        "#-----\n",
        "\n",
        "  # initializes the weights and biases of the encoder and decoder networks. It creates weight and bias variables for each layer using Glorot normal initialization and truncated normal initialization, respectively. It also adds histogram summaries for the weights and biases to monitor their distributions during training.\n",
        "  def _construct_weights(self):\n",
        "    self.weights_q, self.biases_q = [], []\n",
        "\n",
        "    for i, (d_in, d_out) in enumerate(zip(self.q_dims[:-1], self.q_dims[1:])):\n",
        "      if i == len(self.q_dims[:-1]) - 1:\n",
        "        # we need two sets of parameters for mean and variance,\n",
        "        # respectively\n",
        "        d_out *= 2\n",
        "        weight_key = \"weight_q_{}to{}\".format(i, i+1)\n",
        "        bias_key = \"bias_q_{}\".format(i+1)\n",
        "\n",
        "        self.weights_q.append(tf.get_variable(\n",
        "            name=weight_key, shape=[d_in, d_out],\n",
        "            initializer=tf.keras.initializers.glorot_normal(\n",
        "                seed=self.random_seed)))\n",
        "\n",
        "        self.biases_q.append(tf.get_variable(\n",
        "            name=bias_key, shape=[d_out],\n",
        "            initializer=tf.truncated_normal_initializer(\n",
        "                stddev=0.001, seed=self.random_seed)))\n",
        "\n",
        "        # add summary stats\n",
        "        tf.summary.histogram(weight_key, self.weights_q[-1])\n",
        "        tf.summary.histogram(bias_key, self.biases_q[-1])\n",
        "\n",
        "    self.weights_p, self.biases_p = [], []\n",
        "\n",
        "    for i, (d_in, d_out) in enumerate(zip(self.p_dims[:-1], self.p_dims[1:])):\n",
        "      weight_key = \"weight_p_{}to{}\".format(i, i+1)\n",
        "      bias_key = \"bias_p_{}\".format(i+1)\n",
        "      self.weights_p.append(tf.get_variable(\n",
        "          name=weight_key, shape=[d_in, d_out],\n",
        "          initializer=tf.keras.initializers.glorot_normal(\n",
        "              seed=self.random_seed)))\n",
        "\n",
        "      self.biases_p.append(tf.get_variable(\n",
        "          name=bias_key, shape=[d_out],\n",
        "          initializer=tf.truncated_normal_initializer(\n",
        "              stddev=0.001, seed=self.random_seed)))\n",
        "\n",
        "      # add summary stats\n",
        "      tf.summary.histogram(weight_key, self.weights_p[-1])\n",
        "      tf.summary.histogram(bias_key, self.biases_p[-1])"
      ]
    },
    {
      "cell_type": "markdown",
      "metadata": {
        "id": "qsnmLykObHKG"
      },
      "source": [
        "## Training/validation data, hyperparameters\n",
        "Load the pre-processed training and validation data"
      ]
    },
    {
      "cell_type": "code",
      "execution_count": 35,
      "metadata": {
        "id": "IKfTLq9ibC4C",
        "colab": {
          "base_uri": "https://localhost:8080/"
        },
        "outputId": "7e83fe1b-43ba-4e85-a995-735190decd67"
      },
      "outputs": [
        {
          "output_type": "execute_result",
          "data": {
            "text/plain": [
              "100"
            ]
          },
          "metadata": {},
          "execution_count": 35
        }
      ],
      "source": [
        "'''\n",
        "unique_sid = list()\n",
        "with open(os.path.join(pro_dir, 'unique_sid.txt'), 'r') as f:\n",
        "    for line in f:\n",
        "        unique_sid.append(line.strip())\n",
        "\n",
        "n_items = len(unique_sid)\n",
        "'''\n",
        "unique_iid = list()\n",
        "with open(os.path.join(dir, 'movies IDs.txt'), 'r') as f:\n",
        "    for line in f:\n",
        "        unique_iid.append(line.strip())\n",
        "\n",
        "n_items = len(unique_iid)\n",
        "n_items"
      ]
    },
    {
      "cell_type": "code",
      "execution_count": 36,
      "metadata": {
        "id": "2rkUelnubKuC"
      },
      "outputs": [],
      "source": [
        "'''\n",
        "a function called load_train_data that takes a CSV file path as input and returns a sparse matrix representing the train data\n",
        "'''\n",
        "def load_train_data(csv_file):\n",
        "  tp = pd.read_csv(csv_file)\n",
        "  n_users = tp['userid'].max() + 1\n",
        "\n",
        "  rows, cols = tp['userid'], tp['itemid']\n",
        "  data = sparse.csr_matrix((np.ones_like(rows),\n",
        "                          (rows, cols)), dtype='float64',\n",
        "                           shape=(n_users, n_items))\n",
        "  return data"
      ]
    },
    {
      "cell_type": "code",
      "execution_count": 37,
      "metadata": {
        "id": "zXqoUkhabTez",
        "colab": {
          "base_uri": "https://localhost:8080/"
        },
        "outputId": "e55cb2d5-bfb0-4cb8-d425-8c553abd6a39"
      },
      "outputs": [
        {
          "output_type": "execute_result",
          "data": {
            "text/plain": [
              "<3447x100 sparse matrix of type '<class 'numpy.float64'>'\n",
              "\twith 4554 stored elements in Compressed Sparse Row format>"
            ]
          },
          "metadata": {},
          "execution_count": 37
        }
      ],
      "source": [
        "training_data = load_train_data(os.path.join(dir, 'train.csv'))\n",
        "training_data"
      ]
    },
    {
      "cell_type": "code",
      "execution_count": 38,
      "metadata": {
        "id": "ygDU8bP3bmBX"
      },
      "outputs": [],
      "source": [
        "'''\n",
        " that takes two CSV file paths as input and returns a tuple containing two sparse matrices: data_tr (train data) and data_te (test data).\n",
        "'''\n",
        "def load_valid_data(csv_file_train, csv_file_test):\n",
        "    tp_tr = pd.read_csv(csv_file_train)\n",
        "    tp_te = pd.read_csv(csv_file_test)\n",
        "\n",
        "    start_idx = min(tp_tr['userid'].min(), tp_te['userid'].min())\n",
        "    end_idx = max(tp_tr['userid'].max(), tp_te['userid'].max())\n",
        "\n",
        "    rows_train, cols_train = tp_tr['userid'] - start_idx, tp_tr['itemid']\n",
        "    rows_test, cols_test = tp_te['userid'] - start_idx, tp_te['itemid']\n",
        "\n",
        "    data_tr = sparse.csr_matrix((np.ones_like(rows_train),\n",
        "                             (rows_train, cols_train)), dtype='float64', shape=(end_idx - start_idx + 1, n_items))\n",
        "    data_te = sparse.csr_matrix((np.ones_like(rows_test),\n",
        "                             (rows_test, cols_test)), dtype='float64', shape=(end_idx - start_idx + 1, n_items))\n",
        "    return data_tr, data_te"
      ]
    },
    {
      "cell_type": "code",
      "execution_count": 39,
      "metadata": {
        "id": "riEEqQ50bqRJ"
      },
      "outputs": [],
      "source": [
        "vad_data_tr, vad_data_te = load_valid_data(os.path.join(dir, 'validation_train.csv'),\n",
        "                                           os.path.join(dir, 'validation_test.csv'))"
      ]
    },
    {
      "cell_type": "code",
      "source": [
        "vad_data_tr"
      ],
      "metadata": {
        "colab": {
          "base_uri": "https://localhost:8080/"
        },
        "id": "CtpOBEOVWeHO",
        "outputId": "4425554e-0a47-4786-d983-608e62680537"
      },
      "execution_count": 40,
      "outputs": [
        {
          "output_type": "execute_result",
          "data": {
            "text/plain": [
              "<2000x100 sparse matrix of type '<class 'numpy.float64'>'\n",
              "\twith 2560 stored elements in Compressed Sparse Row format>"
            ]
          },
          "metadata": {},
          "execution_count": 40
        }
      ]
    },
    {
      "cell_type": "markdown",
      "source": [
        "##### Set up training hyperparameters"
      ],
      "metadata": {
        "id": "9iBZb3kgVqnH"
      }
    },
    {
      "cell_type": "code",
      "execution_count": 351,
      "metadata": {
        "id": "2ZZxu3Rwbu4j"
      },
      "outputs": [],
      "source": [
        "'''\n",
        "This code defines variables related to the training and validation data, batch sizes, and annealing parameters.\n",
        "'''\n",
        "# train\n",
        "#  the number of training examples (N) from the shape of the train_data matrix\n",
        "N = training_data.shape[0]\n",
        "idxlist = list(range(N))\n",
        "# sets the training batch size\n",
        "batch_size = 3000\n",
        "# Calculates the number of batches per epoch (batches_per_epoch) by dividing the total number of training examples (N) by the training batch size (batch_size) and rounding up using np.ceil\n",
        "batches_per_epoch = int(np.ceil(float(N) / batch_size))\n",
        "\n",
        "# valid\n",
        "N_vad = vad_data_tr.shape[0]\n",
        "idxlist_vad = range(N_vad)\n",
        "# validation batch size (since the entire validation set might not fit into GPU memory)\n",
        "batch_size_vad = 2000\n",
        "\n",
        "# anneal\n",
        "# the total number of gradient updates for annealing\n",
        "total_anneal_steps = 200000\n",
        "# largest annealing parameter\n",
        "anneal_cap = 0.2"
      ]
    },
    {
      "cell_type": "markdown",
      "source": [
        "##### Evaluate function: Normalized discounted cumulative gain (NDCG@k) and Recall@k"
      ],
      "metadata": {
        "id": "tjRnhtW9XCfk"
      }
    },
    {
      "cell_type": "code",
      "execution_count": 275,
      "metadata": {
        "id": "NOxKRr4Fbxxz"
      },
      "outputs": [],
      "source": [
        "def NDCG_binary_at_k_batch(X_pred, heldout_batch, k=99):\n",
        "    '''\n",
        "    normalized discounted cumulative gain@k for binary relevance\n",
        "    ASSUMPTIONS: all the 0's in heldout_data indicate 0 relevance\n",
        "    '''\n",
        "    batch_users = X_pred.shape[0]\n",
        "    idx_topk_part = bn.argpartition(-X_pred, k, axis=1)\n",
        "    topk_part = X_pred[np.arange(batch_users)[:, np.newaxis],\n",
        "                       idx_topk_part[:, :k]]\n",
        "    idx_part = np.argsort(-topk_part, axis=1)\n",
        "    # X_pred[np.arange(batch_users)[:, np.newaxis], idx_topk] is the sorted\n",
        "    # topk predicted score\n",
        "    idx_topk = idx_topk_part[np.arange(batch_users)[:, np.newaxis], idx_part]\n",
        "    # build the discount template\n",
        "    tp = 1. / np.log2(np.arange(2, k + 2))\n",
        "\n",
        "    DCG = (heldout_batch[np.arange(batch_users)[:, np.newaxis],\n",
        "                         idx_topk].toarray() * tp).sum(axis=1)\n",
        "    IDCG = np.array([(tp[:min(n, k)]).sum()\n",
        "                     for n in heldout_batch.getnnz(axis=1)])\n",
        "\n",
        "    # print('Computing dgc / idgc with ' + str(DCG) + ' / ' + str(IDCG))\n",
        "\n",
        "    return DCG / (IDCG + 1e-6)"
      ]
    },
    {
      "cell_type": "code",
      "execution_count": 276,
      "metadata": {
        "id": "sZC7fGokb0N3"
      },
      "outputs": [],
      "source": [
        "def Recall_at_k_batch(X_pred, heldout_batch, k=50):\n",
        "    batch_users = X_pred.shape[0]\n",
        "\n",
        "    idx = bn.argpartition(-X_pred, k, axis=1)\n",
        "    X_pred_binary = np.zeros_like(X_pred, dtype=bool)\n",
        "    X_pred_binary[np.arange(batch_users)[:, np.newaxis], idx[:, :k]] = True\n",
        "\n",
        "    X_true_binary = (heldout_batch > 0).toarray()\n",
        "    tmp = (np.logical_and(X_true_binary, X_pred_binary).sum(axis=1)).astype(\n",
        "        np.float32)\n",
        "    recall = tmp / (np.minimum(k, X_true_binary.sum(axis=1)) + 1e-6)\n",
        "    return recall"
      ]
    },
    {
      "cell_type": "markdown",
      "metadata": {
        "id": "yOwoSohVdjzf"
      },
      "source": [
        "#### Train a Multi-VAE"
      ]
    },
    {
      "cell_type": "code",
      "execution_count": 378,
      "metadata": {
        "id": "eToClZv1b2s_"
      },
      "outputs": [],
      "source": [
        "p_dims = [80, 100, n_items]"
      ]
    },
    {
      "cell_type": "code",
      "execution_count": 379,
      "metadata": {
        "id": "IHqqUgugdnNi"
      },
      "outputs": [],
      "source": [
        "tf.reset_default_graph()\n",
        "vae = MultiVAE(p_dims, lam=0.0, random_seed=100)\n",
        "\n",
        "saver, logits_var, loss_var, train_op_var, merged_var = vae.build_graph()\n",
        "\n",
        "ndcg_var = tf.Variable(0.0)\n",
        "ndcg_dist_var = tf.placeholder(dtype=tf.float64, shape=None)\n",
        "ndcg_summary = tf.summary.scalar('ndcg_at_k_validation', ndcg_var)\n",
        "ndcg_dist_summary = tf.summary.histogram('ndcg_at_k_hist_validation', ndcg_dist_var)\n",
        "merged_valid = tf.summary.merge([ndcg_summary, ndcg_dist_summary])"
      ]
    },
    {
      "cell_type": "code",
      "execution_count": 380,
      "metadata": {
        "id": "1UleQl5jeLTH"
      },
      "outputs": [],
      "source": [
        "arch_str = \"I-%s-I\" % ('-'.join([str(d) for d in vae.dims[1:-1]]))"
      ]
    },
    {
      "cell_type": "markdown",
      "source": [
        "Set up logging and checkpoint directory\n",
        "\n",
        "- Change all the logging directory and checkpoint directory to somewhere of your choice\n",
        "- Monitor training progress using tensorflow by: `tensorboard --logdir=$log_dir`"
      ],
      "metadata": {
        "id": "AQItJuU_Yxa0"
      }
    },
    {
      "cell_type": "code",
      "execution_count": 381,
      "metadata": {
        "colab": {
          "base_uri": "https://localhost:8080/"
        },
        "id": "wwnQ4s2TeOkZ",
        "outputId": "ab7e215c-b210-4fff-a26d-e60e83797973"
      },
      "outputs": [
        {
          "output_type": "stream",
          "name": "stdout",
          "text": [
            "log directory: /content/VAE_anneal200.0K_cap2.0E-01/I-100-80-100-I\n"
          ]
        }
      ],
      "source": [
        "log_dir = '/content/VAE_anneal{}K_cap{:1.1E}/{}'.format(\n",
        "    total_anneal_steps/1000, anneal_cap, arch_str)\n",
        "\n",
        "if os.path.exists(log_dir):\n",
        "    shutil.rmtree(log_dir)\n",
        "\n",
        "print(\"log directory: %s\" % log_dir)\n",
        "summary_writer = tf.summary.FileWriter(log_dir, graph=tf.get_default_graph())"
      ]
    },
    {
      "cell_type": "code",
      "execution_count": 382,
      "metadata": {
        "colab": {
          "base_uri": "https://localhost:8080/"
        },
        "id": "YXw_oQPReROG",
        "outputId": "1089e03e-be73-4673-fb3c-721804e8d942"
      },
      "outputs": [
        {
          "output_type": "stream",
          "name": "stdout",
          "text": [
            "chkpt directory: /content/VAE_anneal200.0K_cap2.0E-01/I-100-80-100-I\n"
          ]
        }
      ],
      "source": [
        "chkpt_dir = '/content/VAE_anneal{}K_cap{:1.1E}/{}'.format(\n",
        "    total_anneal_steps/1000, anneal_cap, arch_str)\n",
        "\n",
        "if not os.path.isdir(chkpt_dir):\n",
        "    os.makedirs(chkpt_dir)\n",
        "\n",
        "print(\"chkpt directory: %s\" % chkpt_dir)"
      ]
    },
    {
      "cell_type": "code",
      "execution_count": 383,
      "metadata": {
        "id": "RBGOJn5meTof"
      },
      "outputs": [],
      "source": [
        "n_epochs = 10000"
      ]
    },
    {
      "cell_type": "code",
      "execution_count": 384,
      "metadata": {
        "colab": {
          "base_uri": "https://localhost:8080/"
        },
        "id": "2C7f3CVyeVoQ",
        "outputId": "4894e499-8c9b-4fad-e8ac-088bb4f676c5"
      },
      "outputs": [
        {
          "output_type": "stream",
          "name": "stderr",
          "text": [
            "100%|██████████| 10000/10000 [22:33<00:00,  7.39it/s]\n"
          ]
        }
      ],
      "source": [
        "ndcgs_vad = []\n",
        "\n",
        "\n",
        "with tf.Session() as sess:\n",
        "\n",
        "    init = tf.global_variables_initializer()\n",
        "    sess.run(init)\n",
        "\n",
        "    best_ndcg = -np.inf\n",
        "\n",
        "    update_count = 0.0\n",
        "\n",
        "    for epoch in tqdm(range(n_epochs)):\n",
        "        np.random.shuffle(idxlist)\n",
        "        # train for one epoch\n",
        "        for bnum, st_idx in enumerate(range(0, N, batch_size)):\n",
        "            end_idx = min(st_idx + batch_size, N)\n",
        "            X = training_data[idxlist[st_idx:end_idx]]\n",
        "\n",
        "            if sparse.isspmatrix(X):\n",
        "                X = X.toarray()\n",
        "            X = X.astype('float32')\n",
        "\n",
        "            if total_anneal_steps > 0:\n",
        "                anneal = min(anneal_cap, 1. * update_count / total_anneal_steps)\n",
        "            else:\n",
        "                anneal = anneal_cap\n",
        "\n",
        "            feed_dict = {vae.input_ph: X,\n",
        "                         vae.keep_prob_ph: 0.5,\n",
        "                         vae.anneal_ph: anneal,\n",
        "                         vae.is_training_ph: 1}\n",
        "            sess.run(train_op_var, feed_dict=feed_dict)\n",
        "\n",
        "            if bnum % (N // batch_size) == 0:\n",
        "                summary_train = sess.run(merged_var, feed_dict=feed_dict)\n",
        "                summary_writer.add_summary(summary_train,\n",
        "                                           global_step=epoch * batches_per_epoch + bnum)\n",
        "\n",
        "            update_count += 1\n",
        "\n",
        "        # compute validation NDCG\n",
        "        ndcg_dist = []\n",
        "        for bnum, st_idx in enumerate(range(0, N_vad, batch_size_vad)):\n",
        "            end_idx = min(st_idx + batch_size_vad, N_vad)\n",
        "            X = vad_data_tr[idxlist_vad[st_idx:end_idx]]\n",
        "\n",
        "            if sparse.isspmatrix(X):\n",
        "                X = X.toarray()\n",
        "            X = X.astype('float32')\n",
        "\n",
        "            pred_val = sess.run(logits_var, feed_dict={vae.input_ph: X} )\n",
        "            # exclude examples from training and validation (if any)\n",
        "            pred_val[X.nonzero()] = -np.inf\n",
        "            ndcg_dist.append(NDCG_binary_at_k_batch(pred_val, vad_data_te[idxlist_vad[st_idx:end_idx]]))\n",
        "\n",
        "        ndcg_dist = np.concatenate(ndcg_dist)\n",
        "        ndcg_ = ndcg_dist.mean()\n",
        "        ndcgs_vad.append(ndcg_)\n",
        "        merged_valid_val = sess.run(merged_valid, feed_dict={ndcg_var: ndcg_, ndcg_dist_var: ndcg_dist})\n",
        "        summary_writer.add_summary(merged_valid_val, epoch)\n",
        "\n",
        "        # update the best model (if necessary)\n",
        "        if ndcg_ > best_ndcg:\n",
        "            saver.save(sess, '{}/model'.format(chkpt_dir))\n",
        "            best_ndcg = ndcg_"
      ]
    },
    {
      "cell_type": "code",
      "execution_count": 385,
      "metadata": {
        "colab": {
          "base_uri": "https://localhost:8080/",
          "height": 319
        },
        "id": "ivHYOazDgu23",
        "outputId": "3eb26334-fcfe-4f41-cb9f-25384697a464"
      },
      "outputs": [
        {
          "output_type": "display_data",
          "data": {
            "text/plain": [
              "<Figure size 1200x300 with 1 Axes>"
            ],
            "image/png": "[encoded data removed]"
          },
          "metadata": {}
        }
      ],
      "source": [
        "plt.figure(figsize=(12, 3))\n",
        "plt.plot(ndcgs_vad)\n",
        "plt.ylabel(\"Validation NDCG@100\")\n",
        "plt.xlabel(\"Epochs\")\n",
        "pass"
      ]
    },
    {
      "cell_type": "markdown",
      "source": [
        "##### Testing"
      ],
      "metadata": {
        "id": "8qL4NVaUa8xi"
      }
    },
    {
      "cell_type": "code",
      "execution_count": 386,
      "metadata": {
        "id": "9bVEtLddgv8S"
      },
      "outputs": [],
      "source": [
        "test_data_tr, test_data_te = load_valid_data(\n",
        "    os.path.join(dir, 'test_train.csv'),\n",
        "    os.path.join(dir, 'test_test.csv'))"
      ]
    },
    {
      "cell_type": "code",
      "execution_count": 387,
      "metadata": {
        "id": "bxwL6kEog2nl"
      },
      "outputs": [],
      "source": [
        "N_test = test_data_tr.shape[0]\n",
        "idxlist_test = range(N_test)\n",
        "batch_size_test = 2000"
      ]
    },
    {
      "cell_type": "code",
      "execution_count": 388,
      "metadata": {
        "id": "8i91uBX_g5o5"
      },
      "outputs": [],
      "source": [
        "tf.reset_default_graph()\n",
        "vae = MultiVAE(p_dims, lam=0.0)\n",
        "saver, logits_var, _, _, _ = vae.build_graph()"
      ]
    },
    {
      "cell_type": "code",
      "execution_count": 389,
      "metadata": {
        "colab": {
          "base_uri": "https://localhost:8080/"
        },
        "id": "Rduq_v_ng72Z",
        "outputId": "720b75e0-1d8e-47b1-eaf3-fa1ab54c91b1"
      },
      "outputs": [
        {
          "output_type": "stream",
          "name": "stdout",
          "text": [
            "chkpt directory: /content/VAE_anneal200.0K_cap2.0E-01/I-100-80-100-I\n"
          ]
        }
      ],
      "source": [
        "chkpt_dir = '/content/VAE_anneal{}K_cap{:1.1E}/{}'.format(\n",
        "    total_anneal_steps/1000, anneal_cap, arch_str)\n",
        "print(\"chkpt directory: %s\" % chkpt_dir)"
      ]
    },
    {
      "cell_type": "code",
      "execution_count": 390,
      "metadata": {
        "id": "ZQMgKXEYg-Fz"
      },
      "outputs": [],
      "source": [
        "n100_list, r20_list, r50_list = [], [], []\n",
        "\n",
        "with tf.Session() as sess:\n",
        "    saver.restore(sess, '{}/model'.format(chkpt_dir))\n",
        "\n",
        "    for bnum, st_idx in enumerate(range(0, N_test, batch_size_test)):\n",
        "        end_idx = min(st_idx + batch_size_test, N_test)\n",
        "        X = test_data_tr[idxlist_test[st_idx:end_idx]]\n",
        "\n",
        "        if sparse.isspmatrix(X):\n",
        "            X = X.toarray()\n",
        "        X = X.astype('float32')\n",
        "\n",
        "        pred_val = sess.run(logits_var, feed_dict={vae.input_ph: X})\n",
        "        # exclude examples from training and validation (if any)\n",
        "        pred_val[X.nonzero()] = -np.inf\n",
        "        n100_list.append(NDCG_binary_at_k_batch(pred_val, test_data_te[idxlist_test[st_idx:end_idx]], k=99))\n",
        "        r20_list.append(Recall_at_k_batch(pred_val, test_data_te[idxlist_test[st_idx:end_idx]], k=20))\n",
        "        r50_list.append(Recall_at_k_batch(pred_val, test_data_te[idxlist_test[st_idx:end_idx]], k=50))\n",
        "\n",
        "n100_list = np.concatenate(n100_list)\n",
        "r20_list = np.concatenate(r20_list)\n",
        "r50_list = np.concatenate(r50_list)"
      ]
    },
    {
      "cell_type": "code",
      "execution_count": 391,
      "metadata": {
        "colab": {
          "base_uri": "https://localhost:8080/"
        },
        "id": "MZOjO_zehFo6",
        "outputId": "f19c8ad3-c896-47e9-dc97-a83ed7f4a4a4"
      },
      "outputs": [
        {
          "output_type": "stream",
          "name": "stdout",
          "text": [
            "Test NDCG@100= mean:0.00552 , std:(0.00099)\n",
            "Test Recall@20= mean: 0.00625 , std:(0.00174)\n",
            "Test Recall@50= mean: 0.01375 , std: (0.00259)\n"
          ]
        }
      ],
      "source": [
        "print(\"Test NDCG@100= mean:%.5f , std:(%.5f)\" % (np.mean(n100_list), np.std(n100_list) / np.sqrt(len(n100_list))))\n",
        "print(\"Test Recall@20= mean: %.5f , std:(%.5f)\" % (np.mean(r20_list), np.std(r20_list) / np.sqrt(len(r20_list))))\n",
        "print(\"Test Recall@50= mean: %.5f , std: (%.5f)\" % (np.mean(r50_list), np.std(r50_list) / np.sqrt(len(r50_list))))"
      ]
    },
    {
      "cell_type": "markdown",
      "metadata": {
        "id": "SMG30BglhJ-w"
      },
      "source": [
        "#### Train a Multi-DAE"
      ]
    },
    {
      "cell_type": "code",
      "execution_count": 352,
      "metadata": {
        "id": "cp9PLvH-hILy"
      },
      "outputs": [],
      "source": [
        "p_dims = [200, n_items]"
      ]
    },
    {
      "cell_type": "code",
      "execution_count": 353,
      "metadata": {
        "id": "4HJ3XiwVhNJ6"
      },
      "outputs": [],
      "source": [
        "tf.reset_default_graph()\n",
        "dae = MultiDAE(p_dims, lam=0.01 / batch_size, random_seed=100)\n",
        "\n",
        "saver, logits_var, loss_var, train_op_var, merged_var = dae.build_graph()\n",
        "\n",
        "ndcg_var = tf.Variable(0.0)\n",
        "ndcg_dist_var = tf.placeholder(dtype=tf.float64, shape=None)\n",
        "ndcg_summary = tf.summary.scalar('ndcg_at_k_validation', ndcg_var)\n",
        "ndcg_dist_summary = tf.summary.histogram('ndcg_at_k_hist_validation', ndcg_dist_var)\n",
        "merged_valid = tf.summary.merge([ndcg_summary, ndcg_dist_summary])"
      ]
    },
    {
      "cell_type": "code",
      "execution_count": 354,
      "metadata": {
        "id": "relE0nZwhPcu"
      },
      "outputs": [],
      "source": [
        "arch_str = \"I-%s-I\" % ('-'.join([str(d) for d in dae.dims[1:-1]]))"
      ]
    },
    {
      "cell_type": "code",
      "execution_count": 355,
      "metadata": {
        "colab": {
          "base_uri": "https://localhost:8080/"
        },
        "id": "nyH-cE-QhShf",
        "outputId": "92a4dd7b-6dae-4cd7-cbdc-1d5f85b4f538"
      },
      "outputs": [
        {
          "output_type": "stream",
          "name": "stdout",
          "text": [
            "log directory: /content/DAE/I-200-I\n"
          ]
        }
      ],
      "source": [
        "log_dir = '/content/DAE/{}'.format(arch_str)\n",
        "\n",
        "if os.path.exists(log_dir):\n",
        "    shutil.rmtree(log_dir)\n",
        "\n",
        "print(\"log directory: %s\" % log_dir)\n",
        "summary_writer = tf.summary.FileWriter(log_dir, graph=tf.get_default_graph())"
      ]
    },
    {
      "cell_type": "code",
      "execution_count": 356,
      "metadata": {
        "colab": {
          "base_uri": "https://localhost:8080/"
        },
        "id": "Ky1mOuSFhUhX",
        "outputId": "743910a4-2c60-459e-9467-55e5f03236f3"
      },
      "outputs": [
        {
          "output_type": "stream",
          "name": "stdout",
          "text": [
            "chkpt directory: /content/DAE/I-200-I\n"
          ]
        }
      ],
      "source": [
        "chkpt_dir = '/content/DAE/{}'.format(arch_str)\n",
        "\n",
        "if not os.path.isdir(chkpt_dir):\n",
        "    os.makedirs(chkpt_dir)\n",
        "\n",
        "print(\"chkpt directory: %s\" % chkpt_dir)"
      ]
    },
    {
      "cell_type": "code",
      "execution_count": 357,
      "metadata": {
        "id": "LuHo1_bIhWxU"
      },
      "outputs": [],
      "source": [
        "n_epochs = 10000"
      ]
    },
    {
      "cell_type": "code",
      "execution_count": 358,
      "metadata": {
        "colab": {
          "base_uri": "https://localhost:8080/"
        },
        "id": "uWYZXxwshZHQ",
        "outputId": "f20e3fb9-f99a-4a55-a4dc-86da5b85f9a6"
      },
      "outputs": [
        {
          "output_type": "stream",
          "name": "stderr",
          "text": [
            "100%|██████████| 10000/10000 [15:07<00:00, 11.02it/s]\n"
          ]
        }
      ],
      "source": [
        "ndcgs_vad = []\n",
        "\n",
        "with tf.Session() as sess:\n",
        "\n",
        "    init = tf.global_variables_initializer()\n",
        "    sess.run(init)\n",
        "\n",
        "    best_ndcg = -np.inf\n",
        "\n",
        "    for epoch in tqdm(range(n_epochs)):\n",
        "        np.random.shuffle(idxlist)\n",
        "        # train for one epoch\n",
        "        for bnum, st_idx in enumerate(range(0, N, batch_size)):\n",
        "            end_idx = min(st_idx + batch_size, N)\n",
        "            X = training_data[idxlist[st_idx:end_idx]]\n",
        "\n",
        "            if sparse.isspmatrix(X):\n",
        "                X = X.toarray()\n",
        "            X = X.astype('float32')\n",
        "\n",
        "            feed_dict = {dae.input_ph: X,\n",
        "                         dae.keep_prob_ph: 0.5}\n",
        "            sess.run(train_op_var, feed_dict=feed_dict)\n",
        "\n",
        "            if bnum % 100 == 0:\n",
        "                summary_train = sess.run(merged_var, feed_dict=feed_dict)\n",
        "                summary_writer.add_summary(summary_train, global_step=epoch * batches_per_epoch + bnum)\n",
        "\n",
        "        # compute validation NDCG\n",
        "        ndcg_dist = []\n",
        "        for bnum, st_idx in enumerate(range(0, N_vad, batch_size_vad)):\n",
        "            end_idx = min(st_idx + batch_size_vad, N_vad)\n",
        "            X = vad_data_tr[idxlist_vad[st_idx:end_idx]]\n",
        "\n",
        "            if sparse.isspmatrix(X):\n",
        "                X = X.toarray()\n",
        "            X = X.astype('float32')\n",
        "\n",
        "            pred_val = sess.run(logits_var, feed_dict={dae.input_ph: X} )\n",
        "            # exclude examples from training and validation (if any)\n",
        "            pred_val[X.nonzero()] = -np.inf\n",
        "            ndcg_dist.append(NDCG_binary_at_k_batch(pred_val, vad_data_te[idxlist_vad[st_idx:end_idx]]))\n",
        "\n",
        "        ndcg_dist = np.concatenate(ndcg_dist)\n",
        "        ndcg_ = ndcg_dist.mean()\n",
        "        ndcgs_vad.append(ndcg_)\n",
        "        merged_valid_val = sess.run(merged_valid, feed_dict={ndcg_var: ndcg_, ndcg_dist_var: ndcg_dist})\n",
        "        summary_writer.add_summary(merged_valid_val, epoch)\n",
        "\n",
        "        # update the best model (if necessary)\n",
        "        if ndcg_ > best_ndcg:\n",
        "            saver.save(sess, '{}/model'.format(chkpt_dir))\n",
        "            best_ndcg = ndcg_"
      ]
    },
    {
      "cell_type": "code",
      "execution_count": 359,
      "metadata": {
        "colab": {
          "base_uri": "https://localhost:8080/",
          "height": 319
        },
        "id": "sycNJiaAhdD-",
        "outputId": "0299b8d6-817a-4163-b513-d5c0fe5c16f0"
      },
      "outputs": [
        {
          "output_type": "display_data",
          "data": {
            "text/plain": [
              "<Figure size 1200x300 with 1 Axes>"
            ],
            "image/png": "[encoded data removed]"
          },
          "metadata": {}
        }
      ],
      "source": [
        "plt.figure(figsize=(12, 3))\n",
        "plt.plot(ndcgs_vad)\n",
        "plt.ylabel(\"Validation NDCG@100\")\n",
        "plt.xlabel(\"Epochs\")\n",
        "pass"
      ]
    },
    {
      "cell_type": "markdown",
      "metadata": {
        "id": "6g_WVRYchiTQ"
      },
      "source": [
        "Compute test metrics"
      ]
    },
    {
      "cell_type": "code",
      "execution_count": 360,
      "metadata": {
        "id": "ToId2iQPhe7O"
      },
      "outputs": [],
      "source": [
        "tf.reset_default_graph()\n",
        "dae = MultiDAE(p_dims, lam=0.01 / batch_size)\n",
        "saver, logits_var, _, _, _ = dae.build_graph()"
      ]
    },
    {
      "cell_type": "code",
      "execution_count": 361,
      "metadata": {
        "colab": {
          "base_uri": "https://localhost:8080/"
        },
        "id": "IyHwuoK8hmle",
        "outputId": "f7cf2c04-e32d-42b9-ed9b-03cc8c2c7a75"
      },
      "outputs": [
        {
          "output_type": "stream",
          "name": "stdout",
          "text": [
            "chkpt directory: /content/DAE/I-200-I\n"
          ]
        }
      ],
      "source": [
        "chkpt_dir = '/content/DAE/{}'.format(arch_str)\n",
        "print(\"chkpt directory: %s\" % chkpt_dir)"
      ]
    },
    {
      "cell_type": "code",
      "execution_count": 362,
      "metadata": {
        "id": "FlpEak57hoPo"
      },
      "outputs": [],
      "source": [
        "n100_list, r20_list, r50_list = [], [], []\n",
        "\n",
        "with tf.Session() as sess:\n",
        "    saver.restore(sess, '{}/model'.format(chkpt_dir))\n",
        "\n",
        "    for bnum, st_idx in enumerate(range(0, N_test, batch_size_test)):\n",
        "        end_idx = min(st_idx + batch_size_test, N_test)\n",
        "        X = test_data_tr[idxlist_test[st_idx:end_idx]]\n",
        "\n",
        "        if sparse.isspmatrix(X):\n",
        "            X = X.toarray()\n",
        "        X = X.astype('float32')\n",
        "\n",
        "        pred_val = sess.run(logits_var, feed_dict={dae.input_ph: X})\n",
        "        # exclude examples from training and validation (if any)\n",
        "        pred_val[X.nonzero()] = -np.inf\n",
        "        n100_list.append(NDCG_binary_at_k_batch(pred_val, test_data_te[idxlist_test[st_idx:end_idx]], k=99))\n",
        "        r20_list.append(Recall_at_k_batch(pred_val, test_data_te[idxlist_test[st_idx:end_idx]], k=20))\n",
        "        r50_list.append(Recall_at_k_batch(pred_val, test_data_te[idxlist_test[st_idx:end_idx]], k=50))\n",
        "\n",
        "n100_list = np.concatenate(n100_list)\n",
        "r20_list = np.concatenate(r20_list)\n",
        "r50_list = np.concatenate(r50_list)"
      ]
    },
    {
      "cell_type": "code",
      "execution_count": 363,
      "metadata": {
        "colab": {
          "base_uri": "https://localhost:8080/"
        },
        "id": "SWKuzv7hhsm_",
        "outputId": "27fa0b4b-5336-4561-91ce-e4727b080eb5"
      },
      "outputs": [
        {
          "metadata": {
            "tags": null
          },
          "name": "stdout",
          "output_type": "stream",
          "text": [
            "Test NDCG@100=0.00552 (0.00093)\n",
            "Test Recall@20=0.00725 (0.00188)\n",
            "Test Recall@50=0.01475 (0.00268)\n"
          ]
        }
      ],
      "source": [
        "print(\"Test NDCG@100= mean:%.5f , std:(%.5f)\" % (np.mean(n100_list), np.std(n100_list) / np.sqrt(len(n100_list))))\n",
        "print(\"Test Recall@20= mean: %.5f , std:(%.5f)\" % (np.mean(r20_list), np.std(r20_list) / np.sqrt(len(r20_list))))\n",
        "print(\"Test Recall@50= mean: %.5f , std: (%.5f)\" % (np.mean(r50_list), np.std(r50_list) / np.sqrt(len(r50_list))))"
      ]
    }
  ],
  "metadata": {
    "colab": {
      "provenance": []
    },
    "kernelspec": {
      "display_name": "Python 3",
      "name": "python3"
    },
    "language_info": {
      "name": "python"
    }
  },
  "nbformat": 4,
  "nbformat_minor": 0
}